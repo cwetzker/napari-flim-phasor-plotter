{
 "cells": [
  {
   "cell_type": "code",
   "execution_count": 6,
   "metadata": {},
   "outputs": [],
   "source": [
    "import re\n",
    "from pathlib import Path"
   ]
  },
  {
   "cell_type": "code",
   "execution_count": 44,
   "metadata": {},
   "outputs": [],
   "source": [
    "folder = Path(r\"C:\\Users\\mazo260d\\Desktop\\Conni_BiA_PoL\\embryo_FLIM_data\\raw_data_embryo_stack_3tps_43pl_2ch\\embryo_43pl_2ch_3tps\")\n",
    "# folder = Path(r\"C:\\Users\\mazo260d\\Desktop\\Conni_BiA_PoL\\copied_for_Marcelo\\single_image\\raw_FLIM_data\")\n"
   ]
  },
  {
   "cell_type": "code",
   "execution_count": 53,
   "metadata": {},
   "outputs": [
    {
     "data": {
      "text/plain": [
       "False"
      ]
     },
     "execution_count": 53,
     "metadata": {},
     "output_type": "execute_result"
    }
   ],
   "source": [
    "folder.is_file()"
   ]
  },
  {
   "cell_type": "code",
   "execution_count": 25,
   "metadata": {},
   "outputs": [
    {
     "data": {
      "text/plain": [
       "'single_FLIM_image'"
      ]
     },
     "execution_count": 25,
     "metadata": {},
     "output_type": "execute_result"
    }
   ],
   "source": [
    "max([path.stem for path in folder.iterdir() if path.suffix=='.ptu'], key=len)"
   ]
  },
  {
   "cell_type": "code",
   "execution_count": 26,
   "metadata": {},
   "outputs": [],
   "source": [
    "# def get_tz_digits(folder_path):\n",
    "#     folder_path = Path(folder_path)\n",
    "#     # Get max length name from list of paths\n",
    "#     longest_file_name_sample = max([path.stem for path in folder_path.iterdir() if path.suffix=='.ptu'], key=len)\n",
    "#     # Get digits after 't'\n",
    "#     digits_after_t = None\n",
    "#     pattern_t = '_t(\\d+)'\n",
    "#     matches_t = re.search(pattern_t, longest_file_name_sample)\n",
    "#     if matches_t is not None:\n",
    "#         digits_after_t = len(matches_t.group(1))\n",
    "#     # Get digits after 'z'\n",
    "#     digits_after_z = None\n",
    "#     pattern_z = '_z(\\d+)'\n",
    "#     matches_z = re.search(pattern_z, longest_file_name_sample)\n",
    "#     if matches_z is not None:\n",
    "#         digits_after_z = len(matches_z.group(1))\n",
    "#     return (digits_after_t, digits_after_z)\n"
   ]
  },
  {
   "cell_type": "code",
   "execution_count": 47,
   "metadata": {},
   "outputs": [],
   "source": [
    "file_paths = [path for path in sorted(folder.iterdir())]\n",
    "pattern_t = '_t(\\d+)'\n",
    "pattern_z = '_z(\\d+)'\n",
    "sorted_files = sorted(file_paths, key=lambda x: (int(re.findall(pattern_t, x.stem)[0]) if re.findall(pattern_t, x.stem) else 0,\n",
    "                                                int(re.findall(pattern_z, x.stem)[0]) if re.findall(pattern_z, x.stem) else 0))"
   ]
  },
  {
   "cell_type": "code",
   "execution_count": 48,
   "metadata": {},
   "outputs": [
    {
     "data": {
      "text/plain": [
       "[WindowsPath('C:/Users/mazo260d/Desktop/Conni_BiA_PoL/embryo_FLIM_data/raw_data_embryo_stack_3tps_43pl_2ch/embryo_43pl_2ch_3tps/WSLogfile.sptl'),\n",
       " WindowsPath('C:/Users/mazo260d/Desktop/Conni_BiA_PoL/embryo_FLIM_data/raw_data_embryo_stack_3tps_43pl_2ch/embryo_43pl_2ch_3tps/embryo_43pl_2ch_3tps_t1_z1.ptu'),\n",
       " WindowsPath('C:/Users/mazo260d/Desktop/Conni_BiA_PoL/embryo_FLIM_data/raw_data_embryo_stack_3tps_43pl_2ch/embryo_43pl_2ch_3tps/embryo_43pl_2ch_3tps_t1_z2.ptu'),\n",
       " WindowsPath('C:/Users/mazo260d/Desktop/Conni_BiA_PoL/embryo_FLIM_data/raw_data_embryo_stack_3tps_43pl_2ch/embryo_43pl_2ch_3tps/embryo_43pl_2ch_3tps_t1_z3.ptu'),\n",
       " WindowsPath('C:/Users/mazo260d/Desktop/Conni_BiA_PoL/embryo_FLIM_data/raw_data_embryo_stack_3tps_43pl_2ch/embryo_43pl_2ch_3tps/embryo_43pl_2ch_3tps_t1_z4.ptu'),\n",
       " WindowsPath('C:/Users/mazo260d/Desktop/Conni_BiA_PoL/embryo_FLIM_data/raw_data_embryo_stack_3tps_43pl_2ch/embryo_43pl_2ch_3tps/embryo_43pl_2ch_3tps_t1_z5.ptu'),\n",
       " WindowsPath('C:/Users/mazo260d/Desktop/Conni_BiA_PoL/embryo_FLIM_data/raw_data_embryo_stack_3tps_43pl_2ch/embryo_43pl_2ch_3tps/embryo_43pl_2ch_3tps_t1_z6.ptu'),\n",
       " WindowsPath('C:/Users/mazo260d/Desktop/Conni_BiA_PoL/embryo_FLIM_data/raw_data_embryo_stack_3tps_43pl_2ch/embryo_43pl_2ch_3tps/embryo_43pl_2ch_3tps_t1_z7.ptu'),\n",
       " WindowsPath('C:/Users/mazo260d/Desktop/Conni_BiA_PoL/embryo_FLIM_data/raw_data_embryo_stack_3tps_43pl_2ch/embryo_43pl_2ch_3tps/embryo_43pl_2ch_3tps_t1_z8.ptu'),\n",
       " WindowsPath('C:/Users/mazo260d/Desktop/Conni_BiA_PoL/embryo_FLIM_data/raw_data_embryo_stack_3tps_43pl_2ch/embryo_43pl_2ch_3tps/embryo_43pl_2ch_3tps_t1_z9.ptu'),\n",
       " WindowsPath('C:/Users/mazo260d/Desktop/Conni_BiA_PoL/embryo_FLIM_data/raw_data_embryo_stack_3tps_43pl_2ch/embryo_43pl_2ch_3tps/embryo_43pl_2ch_3tps_t1_z10.ptu'),\n",
       " WindowsPath('C:/Users/mazo260d/Desktop/Conni_BiA_PoL/embryo_FLIM_data/raw_data_embryo_stack_3tps_43pl_2ch/embryo_43pl_2ch_3tps/embryo_43pl_2ch_3tps_t1_z11.ptu'),\n",
       " WindowsPath('C:/Users/mazo260d/Desktop/Conni_BiA_PoL/embryo_FLIM_data/raw_data_embryo_stack_3tps_43pl_2ch/embryo_43pl_2ch_3tps/embryo_43pl_2ch_3tps_t1_z12.ptu'),\n",
       " WindowsPath('C:/Users/mazo260d/Desktop/Conni_BiA_PoL/embryo_FLIM_data/raw_data_embryo_stack_3tps_43pl_2ch/embryo_43pl_2ch_3tps/embryo_43pl_2ch_3tps_t1_z13.ptu'),\n",
       " WindowsPath('C:/Users/mazo260d/Desktop/Conni_BiA_PoL/embryo_FLIM_data/raw_data_embryo_stack_3tps_43pl_2ch/embryo_43pl_2ch_3tps/embryo_43pl_2ch_3tps_t1_z14.ptu'),\n",
       " WindowsPath('C:/Users/mazo260d/Desktop/Conni_BiA_PoL/embryo_FLIM_data/raw_data_embryo_stack_3tps_43pl_2ch/embryo_43pl_2ch_3tps/embryo_43pl_2ch_3tps_t1_z15.ptu'),\n",
       " WindowsPath('C:/Users/mazo260d/Desktop/Conni_BiA_PoL/embryo_FLIM_data/raw_data_embryo_stack_3tps_43pl_2ch/embryo_43pl_2ch_3tps/embryo_43pl_2ch_3tps_t1_z16.ptu'),\n",
       " WindowsPath('C:/Users/mazo260d/Desktop/Conni_BiA_PoL/embryo_FLIM_data/raw_data_embryo_stack_3tps_43pl_2ch/embryo_43pl_2ch_3tps/embryo_43pl_2ch_3tps_t1_z17.ptu'),\n",
       " WindowsPath('C:/Users/mazo260d/Desktop/Conni_BiA_PoL/embryo_FLIM_data/raw_data_embryo_stack_3tps_43pl_2ch/embryo_43pl_2ch_3tps/embryo_43pl_2ch_3tps_t1_z18.ptu'),\n",
       " WindowsPath('C:/Users/mazo260d/Desktop/Conni_BiA_PoL/embryo_FLIM_data/raw_data_embryo_stack_3tps_43pl_2ch/embryo_43pl_2ch_3tps/embryo_43pl_2ch_3tps_t1_z19.ptu'),\n",
       " WindowsPath('C:/Users/mazo260d/Desktop/Conni_BiA_PoL/embryo_FLIM_data/raw_data_embryo_stack_3tps_43pl_2ch/embryo_43pl_2ch_3tps/embryo_43pl_2ch_3tps_t1_z20.ptu'),\n",
       " WindowsPath('C:/Users/mazo260d/Desktop/Conni_BiA_PoL/embryo_FLIM_data/raw_data_embryo_stack_3tps_43pl_2ch/embryo_43pl_2ch_3tps/embryo_43pl_2ch_3tps_t1_z21.ptu'),\n",
       " WindowsPath('C:/Users/mazo260d/Desktop/Conni_BiA_PoL/embryo_FLIM_data/raw_data_embryo_stack_3tps_43pl_2ch/embryo_43pl_2ch_3tps/embryo_43pl_2ch_3tps_t1_z22.ptu'),\n",
       " WindowsPath('C:/Users/mazo260d/Desktop/Conni_BiA_PoL/embryo_FLIM_data/raw_data_embryo_stack_3tps_43pl_2ch/embryo_43pl_2ch_3tps/embryo_43pl_2ch_3tps_t1_z23.ptu'),\n",
       " WindowsPath('C:/Users/mazo260d/Desktop/Conni_BiA_PoL/embryo_FLIM_data/raw_data_embryo_stack_3tps_43pl_2ch/embryo_43pl_2ch_3tps/embryo_43pl_2ch_3tps_t1_z24.ptu'),\n",
       " WindowsPath('C:/Users/mazo260d/Desktop/Conni_BiA_PoL/embryo_FLIM_data/raw_data_embryo_stack_3tps_43pl_2ch/embryo_43pl_2ch_3tps/embryo_43pl_2ch_3tps_t1_z25.ptu'),\n",
       " WindowsPath('C:/Users/mazo260d/Desktop/Conni_BiA_PoL/embryo_FLIM_data/raw_data_embryo_stack_3tps_43pl_2ch/embryo_43pl_2ch_3tps/embryo_43pl_2ch_3tps_t1_z26.ptu'),\n",
       " WindowsPath('C:/Users/mazo260d/Desktop/Conni_BiA_PoL/embryo_FLIM_data/raw_data_embryo_stack_3tps_43pl_2ch/embryo_43pl_2ch_3tps/embryo_43pl_2ch_3tps_t1_z27.ptu'),\n",
       " WindowsPath('C:/Users/mazo260d/Desktop/Conni_BiA_PoL/embryo_FLIM_data/raw_data_embryo_stack_3tps_43pl_2ch/embryo_43pl_2ch_3tps/embryo_43pl_2ch_3tps_t1_z28.ptu'),\n",
       " WindowsPath('C:/Users/mazo260d/Desktop/Conni_BiA_PoL/embryo_FLIM_data/raw_data_embryo_stack_3tps_43pl_2ch/embryo_43pl_2ch_3tps/embryo_43pl_2ch_3tps_t1_z29.ptu'),\n",
       " WindowsPath('C:/Users/mazo260d/Desktop/Conni_BiA_PoL/embryo_FLIM_data/raw_data_embryo_stack_3tps_43pl_2ch/embryo_43pl_2ch_3tps/embryo_43pl_2ch_3tps_t1_z30.ptu'),\n",
       " WindowsPath('C:/Users/mazo260d/Desktop/Conni_BiA_PoL/embryo_FLIM_data/raw_data_embryo_stack_3tps_43pl_2ch/embryo_43pl_2ch_3tps/embryo_43pl_2ch_3tps_t1_z31.ptu'),\n",
       " WindowsPath('C:/Users/mazo260d/Desktop/Conni_BiA_PoL/embryo_FLIM_data/raw_data_embryo_stack_3tps_43pl_2ch/embryo_43pl_2ch_3tps/embryo_43pl_2ch_3tps_t1_z32.ptu'),\n",
       " WindowsPath('C:/Users/mazo260d/Desktop/Conni_BiA_PoL/embryo_FLIM_data/raw_data_embryo_stack_3tps_43pl_2ch/embryo_43pl_2ch_3tps/embryo_43pl_2ch_3tps_t1_z33.ptu'),\n",
       " WindowsPath('C:/Users/mazo260d/Desktop/Conni_BiA_PoL/embryo_FLIM_data/raw_data_embryo_stack_3tps_43pl_2ch/embryo_43pl_2ch_3tps/embryo_43pl_2ch_3tps_t1_z34.ptu'),\n",
       " WindowsPath('C:/Users/mazo260d/Desktop/Conni_BiA_PoL/embryo_FLIM_data/raw_data_embryo_stack_3tps_43pl_2ch/embryo_43pl_2ch_3tps/embryo_43pl_2ch_3tps_t1_z35.ptu'),\n",
       " WindowsPath('C:/Users/mazo260d/Desktop/Conni_BiA_PoL/embryo_FLIM_data/raw_data_embryo_stack_3tps_43pl_2ch/embryo_43pl_2ch_3tps/embryo_43pl_2ch_3tps_t1_z36.ptu'),\n",
       " WindowsPath('C:/Users/mazo260d/Desktop/Conni_BiA_PoL/embryo_FLIM_data/raw_data_embryo_stack_3tps_43pl_2ch/embryo_43pl_2ch_3tps/embryo_43pl_2ch_3tps_t1_z37.ptu'),\n",
       " WindowsPath('C:/Users/mazo260d/Desktop/Conni_BiA_PoL/embryo_FLIM_data/raw_data_embryo_stack_3tps_43pl_2ch/embryo_43pl_2ch_3tps/embryo_43pl_2ch_3tps_t1_z38.ptu'),\n",
       " WindowsPath('C:/Users/mazo260d/Desktop/Conni_BiA_PoL/embryo_FLIM_data/raw_data_embryo_stack_3tps_43pl_2ch/embryo_43pl_2ch_3tps/embryo_43pl_2ch_3tps_t1_z39.ptu'),\n",
       " WindowsPath('C:/Users/mazo260d/Desktop/Conni_BiA_PoL/embryo_FLIM_data/raw_data_embryo_stack_3tps_43pl_2ch/embryo_43pl_2ch_3tps/embryo_43pl_2ch_3tps_t1_z40.ptu'),\n",
       " WindowsPath('C:/Users/mazo260d/Desktop/Conni_BiA_PoL/embryo_FLIM_data/raw_data_embryo_stack_3tps_43pl_2ch/embryo_43pl_2ch_3tps/embryo_43pl_2ch_3tps_t1_z41.ptu'),\n",
       " WindowsPath('C:/Users/mazo260d/Desktop/Conni_BiA_PoL/embryo_FLIM_data/raw_data_embryo_stack_3tps_43pl_2ch/embryo_43pl_2ch_3tps/embryo_43pl_2ch_3tps_t1_z42.ptu'),\n",
       " WindowsPath('C:/Users/mazo260d/Desktop/Conni_BiA_PoL/embryo_FLIM_data/raw_data_embryo_stack_3tps_43pl_2ch/embryo_43pl_2ch_3tps/embryo_43pl_2ch_3tps_t1_z43.ptu'),\n",
       " WindowsPath('C:/Users/mazo260d/Desktop/Conni_BiA_PoL/embryo_FLIM_data/raw_data_embryo_stack_3tps_43pl_2ch/embryo_43pl_2ch_3tps/embryo_43pl_2ch_3tps_t2_z1.ptu'),\n",
       " WindowsPath('C:/Users/mazo260d/Desktop/Conni_BiA_PoL/embryo_FLIM_data/raw_data_embryo_stack_3tps_43pl_2ch/embryo_43pl_2ch_3tps/embryo_43pl_2ch_3tps_t2_z2.ptu'),\n",
       " WindowsPath('C:/Users/mazo260d/Desktop/Conni_BiA_PoL/embryo_FLIM_data/raw_data_embryo_stack_3tps_43pl_2ch/embryo_43pl_2ch_3tps/embryo_43pl_2ch_3tps_t2_z3.ptu'),\n",
       " WindowsPath('C:/Users/mazo260d/Desktop/Conni_BiA_PoL/embryo_FLIM_data/raw_data_embryo_stack_3tps_43pl_2ch/embryo_43pl_2ch_3tps/embryo_43pl_2ch_3tps_t2_z4.ptu'),\n",
       " WindowsPath('C:/Users/mazo260d/Desktop/Conni_BiA_PoL/embryo_FLIM_data/raw_data_embryo_stack_3tps_43pl_2ch/embryo_43pl_2ch_3tps/embryo_43pl_2ch_3tps_t2_z5.ptu'),\n",
       " WindowsPath('C:/Users/mazo260d/Desktop/Conni_BiA_PoL/embryo_FLIM_data/raw_data_embryo_stack_3tps_43pl_2ch/embryo_43pl_2ch_3tps/embryo_43pl_2ch_3tps_t2_z6.ptu'),\n",
       " WindowsPath('C:/Users/mazo260d/Desktop/Conni_BiA_PoL/embryo_FLIM_data/raw_data_embryo_stack_3tps_43pl_2ch/embryo_43pl_2ch_3tps/embryo_43pl_2ch_3tps_t2_z7.ptu'),\n",
       " WindowsPath('C:/Users/mazo260d/Desktop/Conni_BiA_PoL/embryo_FLIM_data/raw_data_embryo_stack_3tps_43pl_2ch/embryo_43pl_2ch_3tps/embryo_43pl_2ch_3tps_t2_z8.ptu'),\n",
       " WindowsPath('C:/Users/mazo260d/Desktop/Conni_BiA_PoL/embryo_FLIM_data/raw_data_embryo_stack_3tps_43pl_2ch/embryo_43pl_2ch_3tps/embryo_43pl_2ch_3tps_t2_z9.ptu'),\n",
       " WindowsPath('C:/Users/mazo260d/Desktop/Conni_BiA_PoL/embryo_FLIM_data/raw_data_embryo_stack_3tps_43pl_2ch/embryo_43pl_2ch_3tps/embryo_43pl_2ch_3tps_t2_z10.ptu'),\n",
       " WindowsPath('C:/Users/mazo260d/Desktop/Conni_BiA_PoL/embryo_FLIM_data/raw_data_embryo_stack_3tps_43pl_2ch/embryo_43pl_2ch_3tps/embryo_43pl_2ch_3tps_t2_z11.ptu'),\n",
       " WindowsPath('C:/Users/mazo260d/Desktop/Conni_BiA_PoL/embryo_FLIM_data/raw_data_embryo_stack_3tps_43pl_2ch/embryo_43pl_2ch_3tps/embryo_43pl_2ch_3tps_t2_z12.ptu'),\n",
       " WindowsPath('C:/Users/mazo260d/Desktop/Conni_BiA_PoL/embryo_FLIM_data/raw_data_embryo_stack_3tps_43pl_2ch/embryo_43pl_2ch_3tps/embryo_43pl_2ch_3tps_t2_z13.ptu'),\n",
       " WindowsPath('C:/Users/mazo260d/Desktop/Conni_BiA_PoL/embryo_FLIM_data/raw_data_embryo_stack_3tps_43pl_2ch/embryo_43pl_2ch_3tps/embryo_43pl_2ch_3tps_t2_z14.ptu'),\n",
       " WindowsPath('C:/Users/mazo260d/Desktop/Conni_BiA_PoL/embryo_FLIM_data/raw_data_embryo_stack_3tps_43pl_2ch/embryo_43pl_2ch_3tps/embryo_43pl_2ch_3tps_t2_z15.ptu'),\n",
       " WindowsPath('C:/Users/mazo260d/Desktop/Conni_BiA_PoL/embryo_FLIM_data/raw_data_embryo_stack_3tps_43pl_2ch/embryo_43pl_2ch_3tps/embryo_43pl_2ch_3tps_t2_z16.ptu'),\n",
       " WindowsPath('C:/Users/mazo260d/Desktop/Conni_BiA_PoL/embryo_FLIM_data/raw_data_embryo_stack_3tps_43pl_2ch/embryo_43pl_2ch_3tps/embryo_43pl_2ch_3tps_t2_z17.ptu'),\n",
       " WindowsPath('C:/Users/mazo260d/Desktop/Conni_BiA_PoL/embryo_FLIM_data/raw_data_embryo_stack_3tps_43pl_2ch/embryo_43pl_2ch_3tps/embryo_43pl_2ch_3tps_t2_z18.ptu'),\n",
       " WindowsPath('C:/Users/mazo260d/Desktop/Conni_BiA_PoL/embryo_FLIM_data/raw_data_embryo_stack_3tps_43pl_2ch/embryo_43pl_2ch_3tps/embryo_43pl_2ch_3tps_t2_z19.ptu'),\n",
       " WindowsPath('C:/Users/mazo260d/Desktop/Conni_BiA_PoL/embryo_FLIM_data/raw_data_embryo_stack_3tps_43pl_2ch/embryo_43pl_2ch_3tps/embryo_43pl_2ch_3tps_t2_z20.ptu'),\n",
       " WindowsPath('C:/Users/mazo260d/Desktop/Conni_BiA_PoL/embryo_FLIM_data/raw_data_embryo_stack_3tps_43pl_2ch/embryo_43pl_2ch_3tps/embryo_43pl_2ch_3tps_t2_z21.ptu'),\n",
       " WindowsPath('C:/Users/mazo260d/Desktop/Conni_BiA_PoL/embryo_FLIM_data/raw_data_embryo_stack_3tps_43pl_2ch/embryo_43pl_2ch_3tps/embryo_43pl_2ch_3tps_t2_z22.ptu'),\n",
       " WindowsPath('C:/Users/mazo260d/Desktop/Conni_BiA_PoL/embryo_FLIM_data/raw_data_embryo_stack_3tps_43pl_2ch/embryo_43pl_2ch_3tps/embryo_43pl_2ch_3tps_t2_z23.ptu'),\n",
       " WindowsPath('C:/Users/mazo260d/Desktop/Conni_BiA_PoL/embryo_FLIM_data/raw_data_embryo_stack_3tps_43pl_2ch/embryo_43pl_2ch_3tps/embryo_43pl_2ch_3tps_t2_z24.ptu'),\n",
       " WindowsPath('C:/Users/mazo260d/Desktop/Conni_BiA_PoL/embryo_FLIM_data/raw_data_embryo_stack_3tps_43pl_2ch/embryo_43pl_2ch_3tps/embryo_43pl_2ch_3tps_t2_z25.ptu'),\n",
       " WindowsPath('C:/Users/mazo260d/Desktop/Conni_BiA_PoL/embryo_FLIM_data/raw_data_embryo_stack_3tps_43pl_2ch/embryo_43pl_2ch_3tps/embryo_43pl_2ch_3tps_t2_z26.ptu'),\n",
       " WindowsPath('C:/Users/mazo260d/Desktop/Conni_BiA_PoL/embryo_FLIM_data/raw_data_embryo_stack_3tps_43pl_2ch/embryo_43pl_2ch_3tps/embryo_43pl_2ch_3tps_t2_z27.ptu'),\n",
       " WindowsPath('C:/Users/mazo260d/Desktop/Conni_BiA_PoL/embryo_FLIM_data/raw_data_embryo_stack_3tps_43pl_2ch/embryo_43pl_2ch_3tps/embryo_43pl_2ch_3tps_t2_z28.ptu'),\n",
       " WindowsPath('C:/Users/mazo260d/Desktop/Conni_BiA_PoL/embryo_FLIM_data/raw_data_embryo_stack_3tps_43pl_2ch/embryo_43pl_2ch_3tps/embryo_43pl_2ch_3tps_t2_z29.ptu'),\n",
       " WindowsPath('C:/Users/mazo260d/Desktop/Conni_BiA_PoL/embryo_FLIM_data/raw_data_embryo_stack_3tps_43pl_2ch/embryo_43pl_2ch_3tps/embryo_43pl_2ch_3tps_t2_z30.ptu'),\n",
       " WindowsPath('C:/Users/mazo260d/Desktop/Conni_BiA_PoL/embryo_FLIM_data/raw_data_embryo_stack_3tps_43pl_2ch/embryo_43pl_2ch_3tps/embryo_43pl_2ch_3tps_t2_z31.ptu'),\n",
       " WindowsPath('C:/Users/mazo260d/Desktop/Conni_BiA_PoL/embryo_FLIM_data/raw_data_embryo_stack_3tps_43pl_2ch/embryo_43pl_2ch_3tps/embryo_43pl_2ch_3tps_t2_z32.ptu'),\n",
       " WindowsPath('C:/Users/mazo260d/Desktop/Conni_BiA_PoL/embryo_FLIM_data/raw_data_embryo_stack_3tps_43pl_2ch/embryo_43pl_2ch_3tps/embryo_43pl_2ch_3tps_t2_z33.ptu'),\n",
       " WindowsPath('C:/Users/mazo260d/Desktop/Conni_BiA_PoL/embryo_FLIM_data/raw_data_embryo_stack_3tps_43pl_2ch/embryo_43pl_2ch_3tps/embryo_43pl_2ch_3tps_t2_z34.ptu'),\n",
       " WindowsPath('C:/Users/mazo260d/Desktop/Conni_BiA_PoL/embryo_FLIM_data/raw_data_embryo_stack_3tps_43pl_2ch/embryo_43pl_2ch_3tps/embryo_43pl_2ch_3tps_t2_z35.ptu'),\n",
       " WindowsPath('C:/Users/mazo260d/Desktop/Conni_BiA_PoL/embryo_FLIM_data/raw_data_embryo_stack_3tps_43pl_2ch/embryo_43pl_2ch_3tps/embryo_43pl_2ch_3tps_t2_z36.ptu'),\n",
       " WindowsPath('C:/Users/mazo260d/Desktop/Conni_BiA_PoL/embryo_FLIM_data/raw_data_embryo_stack_3tps_43pl_2ch/embryo_43pl_2ch_3tps/embryo_43pl_2ch_3tps_t2_z37.ptu'),\n",
       " WindowsPath('C:/Users/mazo260d/Desktop/Conni_BiA_PoL/embryo_FLIM_data/raw_data_embryo_stack_3tps_43pl_2ch/embryo_43pl_2ch_3tps/embryo_43pl_2ch_3tps_t2_z38.ptu'),\n",
       " WindowsPath('C:/Users/mazo260d/Desktop/Conni_BiA_PoL/embryo_FLIM_data/raw_data_embryo_stack_3tps_43pl_2ch/embryo_43pl_2ch_3tps/embryo_43pl_2ch_3tps_t2_z39.ptu'),\n",
       " WindowsPath('C:/Users/mazo260d/Desktop/Conni_BiA_PoL/embryo_FLIM_data/raw_data_embryo_stack_3tps_43pl_2ch/embryo_43pl_2ch_3tps/embryo_43pl_2ch_3tps_t2_z40.ptu'),\n",
       " WindowsPath('C:/Users/mazo260d/Desktop/Conni_BiA_PoL/embryo_FLIM_data/raw_data_embryo_stack_3tps_43pl_2ch/embryo_43pl_2ch_3tps/embryo_43pl_2ch_3tps_t2_z41.ptu'),\n",
       " WindowsPath('C:/Users/mazo260d/Desktop/Conni_BiA_PoL/embryo_FLIM_data/raw_data_embryo_stack_3tps_43pl_2ch/embryo_43pl_2ch_3tps/embryo_43pl_2ch_3tps_t2_z42.ptu'),\n",
       " WindowsPath('C:/Users/mazo260d/Desktop/Conni_BiA_PoL/embryo_FLIM_data/raw_data_embryo_stack_3tps_43pl_2ch/embryo_43pl_2ch_3tps/embryo_43pl_2ch_3tps_t2_z43.ptu'),\n",
       " WindowsPath('C:/Users/mazo260d/Desktop/Conni_BiA_PoL/embryo_FLIM_data/raw_data_embryo_stack_3tps_43pl_2ch/embryo_43pl_2ch_3tps/embryo_43pl_2ch_3tps_t3_z1.ptu'),\n",
       " WindowsPath('C:/Users/mazo260d/Desktop/Conni_BiA_PoL/embryo_FLIM_data/raw_data_embryo_stack_3tps_43pl_2ch/embryo_43pl_2ch_3tps/embryo_43pl_2ch_3tps_t3_z2.ptu'),\n",
       " WindowsPath('C:/Users/mazo260d/Desktop/Conni_BiA_PoL/embryo_FLIM_data/raw_data_embryo_stack_3tps_43pl_2ch/embryo_43pl_2ch_3tps/embryo_43pl_2ch_3tps_t3_z3.ptu'),\n",
       " WindowsPath('C:/Users/mazo260d/Desktop/Conni_BiA_PoL/embryo_FLIM_data/raw_data_embryo_stack_3tps_43pl_2ch/embryo_43pl_2ch_3tps/embryo_43pl_2ch_3tps_t3_z4.ptu'),\n",
       " WindowsPath('C:/Users/mazo260d/Desktop/Conni_BiA_PoL/embryo_FLIM_data/raw_data_embryo_stack_3tps_43pl_2ch/embryo_43pl_2ch_3tps/embryo_43pl_2ch_3tps_t3_z5.ptu'),\n",
       " WindowsPath('C:/Users/mazo260d/Desktop/Conni_BiA_PoL/embryo_FLIM_data/raw_data_embryo_stack_3tps_43pl_2ch/embryo_43pl_2ch_3tps/embryo_43pl_2ch_3tps_t3_z6.ptu'),\n",
       " WindowsPath('C:/Users/mazo260d/Desktop/Conni_BiA_PoL/embryo_FLIM_data/raw_data_embryo_stack_3tps_43pl_2ch/embryo_43pl_2ch_3tps/embryo_43pl_2ch_3tps_t3_z7.ptu'),\n",
       " WindowsPath('C:/Users/mazo260d/Desktop/Conni_BiA_PoL/embryo_FLIM_data/raw_data_embryo_stack_3tps_43pl_2ch/embryo_43pl_2ch_3tps/embryo_43pl_2ch_3tps_t3_z8.ptu'),\n",
       " WindowsPath('C:/Users/mazo260d/Desktop/Conni_BiA_PoL/embryo_FLIM_data/raw_data_embryo_stack_3tps_43pl_2ch/embryo_43pl_2ch_3tps/embryo_43pl_2ch_3tps_t3_z9.ptu'),\n",
       " WindowsPath('C:/Users/mazo260d/Desktop/Conni_BiA_PoL/embryo_FLIM_data/raw_data_embryo_stack_3tps_43pl_2ch/embryo_43pl_2ch_3tps/embryo_43pl_2ch_3tps_t3_z10.ptu'),\n",
       " WindowsPath('C:/Users/mazo260d/Desktop/Conni_BiA_PoL/embryo_FLIM_data/raw_data_embryo_stack_3tps_43pl_2ch/embryo_43pl_2ch_3tps/embryo_43pl_2ch_3tps_t3_z11.ptu'),\n",
       " WindowsPath('C:/Users/mazo260d/Desktop/Conni_BiA_PoL/embryo_FLIM_data/raw_data_embryo_stack_3tps_43pl_2ch/embryo_43pl_2ch_3tps/embryo_43pl_2ch_3tps_t3_z12.ptu'),\n",
       " WindowsPath('C:/Users/mazo260d/Desktop/Conni_BiA_PoL/embryo_FLIM_data/raw_data_embryo_stack_3tps_43pl_2ch/embryo_43pl_2ch_3tps/embryo_43pl_2ch_3tps_t3_z13.ptu'),\n",
       " WindowsPath('C:/Users/mazo260d/Desktop/Conni_BiA_PoL/embryo_FLIM_data/raw_data_embryo_stack_3tps_43pl_2ch/embryo_43pl_2ch_3tps/embryo_43pl_2ch_3tps_t3_z14.ptu'),\n",
       " WindowsPath('C:/Users/mazo260d/Desktop/Conni_BiA_PoL/embryo_FLIM_data/raw_data_embryo_stack_3tps_43pl_2ch/embryo_43pl_2ch_3tps/embryo_43pl_2ch_3tps_t3_z15.ptu'),\n",
       " WindowsPath('C:/Users/mazo260d/Desktop/Conni_BiA_PoL/embryo_FLIM_data/raw_data_embryo_stack_3tps_43pl_2ch/embryo_43pl_2ch_3tps/embryo_43pl_2ch_3tps_t3_z16.ptu'),\n",
       " WindowsPath('C:/Users/mazo260d/Desktop/Conni_BiA_PoL/embryo_FLIM_data/raw_data_embryo_stack_3tps_43pl_2ch/embryo_43pl_2ch_3tps/embryo_43pl_2ch_3tps_t3_z17.ptu'),\n",
       " WindowsPath('C:/Users/mazo260d/Desktop/Conni_BiA_PoL/embryo_FLIM_data/raw_data_embryo_stack_3tps_43pl_2ch/embryo_43pl_2ch_3tps/embryo_43pl_2ch_3tps_t3_z18.ptu'),\n",
       " WindowsPath('C:/Users/mazo260d/Desktop/Conni_BiA_PoL/embryo_FLIM_data/raw_data_embryo_stack_3tps_43pl_2ch/embryo_43pl_2ch_3tps/embryo_43pl_2ch_3tps_t3_z19.ptu'),\n",
       " WindowsPath('C:/Users/mazo260d/Desktop/Conni_BiA_PoL/embryo_FLIM_data/raw_data_embryo_stack_3tps_43pl_2ch/embryo_43pl_2ch_3tps/embryo_43pl_2ch_3tps_t3_z20.ptu'),\n",
       " WindowsPath('C:/Users/mazo260d/Desktop/Conni_BiA_PoL/embryo_FLIM_data/raw_data_embryo_stack_3tps_43pl_2ch/embryo_43pl_2ch_3tps/embryo_43pl_2ch_3tps_t3_z21.ptu'),\n",
       " WindowsPath('C:/Users/mazo260d/Desktop/Conni_BiA_PoL/embryo_FLIM_data/raw_data_embryo_stack_3tps_43pl_2ch/embryo_43pl_2ch_3tps/embryo_43pl_2ch_3tps_t3_z22.ptu'),\n",
       " WindowsPath('C:/Users/mazo260d/Desktop/Conni_BiA_PoL/embryo_FLIM_data/raw_data_embryo_stack_3tps_43pl_2ch/embryo_43pl_2ch_3tps/embryo_43pl_2ch_3tps_t3_z23.ptu'),\n",
       " WindowsPath('C:/Users/mazo260d/Desktop/Conni_BiA_PoL/embryo_FLIM_data/raw_data_embryo_stack_3tps_43pl_2ch/embryo_43pl_2ch_3tps/embryo_43pl_2ch_3tps_t3_z24.ptu'),\n",
       " WindowsPath('C:/Users/mazo260d/Desktop/Conni_BiA_PoL/embryo_FLIM_data/raw_data_embryo_stack_3tps_43pl_2ch/embryo_43pl_2ch_3tps/embryo_43pl_2ch_3tps_t3_z25.ptu'),\n",
       " WindowsPath('C:/Users/mazo260d/Desktop/Conni_BiA_PoL/embryo_FLIM_data/raw_data_embryo_stack_3tps_43pl_2ch/embryo_43pl_2ch_3tps/embryo_43pl_2ch_3tps_t3_z26.ptu'),\n",
       " WindowsPath('C:/Users/mazo260d/Desktop/Conni_BiA_PoL/embryo_FLIM_data/raw_data_embryo_stack_3tps_43pl_2ch/embryo_43pl_2ch_3tps/embryo_43pl_2ch_3tps_t3_z27.ptu'),\n",
       " WindowsPath('C:/Users/mazo260d/Desktop/Conni_BiA_PoL/embryo_FLIM_data/raw_data_embryo_stack_3tps_43pl_2ch/embryo_43pl_2ch_3tps/embryo_43pl_2ch_3tps_t3_z28.ptu'),\n",
       " WindowsPath('C:/Users/mazo260d/Desktop/Conni_BiA_PoL/embryo_FLIM_data/raw_data_embryo_stack_3tps_43pl_2ch/embryo_43pl_2ch_3tps/embryo_43pl_2ch_3tps_t3_z29.ptu'),\n",
       " WindowsPath('C:/Users/mazo260d/Desktop/Conni_BiA_PoL/embryo_FLIM_data/raw_data_embryo_stack_3tps_43pl_2ch/embryo_43pl_2ch_3tps/embryo_43pl_2ch_3tps_t3_z30.ptu'),\n",
       " WindowsPath('C:/Users/mazo260d/Desktop/Conni_BiA_PoL/embryo_FLIM_data/raw_data_embryo_stack_3tps_43pl_2ch/embryo_43pl_2ch_3tps/embryo_43pl_2ch_3tps_t3_z31.ptu'),\n",
       " WindowsPath('C:/Users/mazo260d/Desktop/Conni_BiA_PoL/embryo_FLIM_data/raw_data_embryo_stack_3tps_43pl_2ch/embryo_43pl_2ch_3tps/embryo_43pl_2ch_3tps_t3_z32.ptu'),\n",
       " WindowsPath('C:/Users/mazo260d/Desktop/Conni_BiA_PoL/embryo_FLIM_data/raw_data_embryo_stack_3tps_43pl_2ch/embryo_43pl_2ch_3tps/embryo_43pl_2ch_3tps_t3_z33.ptu'),\n",
       " WindowsPath('C:/Users/mazo260d/Desktop/Conni_BiA_PoL/embryo_FLIM_data/raw_data_embryo_stack_3tps_43pl_2ch/embryo_43pl_2ch_3tps/embryo_43pl_2ch_3tps_t3_z34.ptu'),\n",
       " WindowsPath('C:/Users/mazo260d/Desktop/Conni_BiA_PoL/embryo_FLIM_data/raw_data_embryo_stack_3tps_43pl_2ch/embryo_43pl_2ch_3tps/embryo_43pl_2ch_3tps_t3_z35.ptu'),\n",
       " WindowsPath('C:/Users/mazo260d/Desktop/Conni_BiA_PoL/embryo_FLIM_data/raw_data_embryo_stack_3tps_43pl_2ch/embryo_43pl_2ch_3tps/embryo_43pl_2ch_3tps_t3_z36.ptu'),\n",
       " WindowsPath('C:/Users/mazo260d/Desktop/Conni_BiA_PoL/embryo_FLIM_data/raw_data_embryo_stack_3tps_43pl_2ch/embryo_43pl_2ch_3tps/embryo_43pl_2ch_3tps_t3_z37.ptu'),\n",
       " WindowsPath('C:/Users/mazo260d/Desktop/Conni_BiA_PoL/embryo_FLIM_data/raw_data_embryo_stack_3tps_43pl_2ch/embryo_43pl_2ch_3tps/embryo_43pl_2ch_3tps_t3_z38.ptu'),\n",
       " WindowsPath('C:/Users/mazo260d/Desktop/Conni_BiA_PoL/embryo_FLIM_data/raw_data_embryo_stack_3tps_43pl_2ch/embryo_43pl_2ch_3tps/embryo_43pl_2ch_3tps_t3_z39.ptu'),\n",
       " WindowsPath('C:/Users/mazo260d/Desktop/Conni_BiA_PoL/embryo_FLIM_data/raw_data_embryo_stack_3tps_43pl_2ch/embryo_43pl_2ch_3tps/embryo_43pl_2ch_3tps_t3_z40.ptu'),\n",
       " WindowsPath('C:/Users/mazo260d/Desktop/Conni_BiA_PoL/embryo_FLIM_data/raw_data_embryo_stack_3tps_43pl_2ch/embryo_43pl_2ch_3tps/embryo_43pl_2ch_3tps_t3_z41.ptu'),\n",
       " WindowsPath('C:/Users/mazo260d/Desktop/Conni_BiA_PoL/embryo_FLIM_data/raw_data_embryo_stack_3tps_43pl_2ch/embryo_43pl_2ch_3tps/embryo_43pl_2ch_3tps_t3_z42.ptu'),\n",
       " WindowsPath('C:/Users/mazo260d/Desktop/Conni_BiA_PoL/embryo_FLIM_data/raw_data_embryo_stack_3tps_43pl_2ch/embryo_43pl_2ch_3tps/embryo_43pl_2ch_3tps_t3_z43.ptu')]"
      ]
     },
     "execution_count": 48,
     "metadata": {},
     "output_type": "execute_result"
    }
   ],
   "source": [
    "sorted_files"
   ]
  },
  {
   "cell_type": "code",
   "execution_count": 54,
   "metadata": {},
   "outputs": [],
   "source": [
    "def get_current_tz(file_path):\n",
    "    pattern_t = '_t(\\d+)'\n",
    "    pattern_z = '_z(\\d+)'\n",
    "    current_t, current_z = None, None\n",
    "    file_name = file_path.stem\n",
    "    matches_z = re.search(pattern_z, file_name)\n",
    "    if matches_z is not None:\n",
    "        current_z = int(matches_z.group(1)) #.zfill(2)\n",
    "    matches_t = re.search(pattern_t, file_name)\n",
    "    if matches_t is not None:\n",
    "        current_t = int(matches_t.group(1))\n",
    "    return current_z, current_t"
   ]
  },
  {
   "cell_type": "code",
   "execution_count": 60,
   "metadata": {},
   "outputs": [
    {
     "data": {
      "text/plain": [
       "[(None, None),\n",
       " (1, 1),\n",
       " (2, 1),\n",
       " (3, 1),\n",
       " (4, 1),\n",
       " (5, 1),\n",
       " (6, 1),\n",
       " (7, 1),\n",
       " (8, 1),\n",
       " (9, 1),\n",
       " (10, 1),\n",
       " (11, 1),\n",
       " (12, 1),\n",
       " (13, 1),\n",
       " (14, 1),\n",
       " (15, 1),\n",
       " (16, 1),\n",
       " (17, 1),\n",
       " (18, 1),\n",
       " (19, 1),\n",
       " (20, 1),\n",
       " (21, 1),\n",
       " (22, 1),\n",
       " (23, 1),\n",
       " (24, 1),\n",
       " (25, 1),\n",
       " (26, 1),\n",
       " (27, 1),\n",
       " (28, 1),\n",
       " (29, 1),\n",
       " (30, 1),\n",
       " (31, 1),\n",
       " (32, 1),\n",
       " (33, 1),\n",
       " (34, 1),\n",
       " (35, 1),\n",
       " (36, 1),\n",
       " (37, 1),\n",
       " (38, 1),\n",
       " (39, 1),\n",
       " (40, 1),\n",
       " (41, 1),\n",
       " (42, 1),\n",
       " (43, 1),\n",
       " (1, 2),\n",
       " (2, 2),\n",
       " (3, 2),\n",
       " (4, 2),\n",
       " (5, 2),\n",
       " (6, 2),\n",
       " (7, 2),\n",
       " (8, 2),\n",
       " (9, 2),\n",
       " (10, 2),\n",
       " (11, 2),\n",
       " (12, 2),\n",
       " (13, 2),\n",
       " (14, 2),\n",
       " (15, 2),\n",
       " (16, 2),\n",
       " (17, 2),\n",
       " (18, 2),\n",
       " (19, 2),\n",
       " (20, 2),\n",
       " (21, 2),\n",
       " (22, 2),\n",
       " (23, 2),\n",
       " (24, 2),\n",
       " (25, 2),\n",
       " (26, 2),\n",
       " (27, 2),\n",
       " (28, 2),\n",
       " (29, 2),\n",
       " (30, 2),\n",
       " (31, 2),\n",
       " (32, 2),\n",
       " (33, 2),\n",
       " (34, 2),\n",
       " (35, 2),\n",
       " (36, 2),\n",
       " (37, 2),\n",
       " (38, 2),\n",
       " (39, 2),\n",
       " (40, 2),\n",
       " (41, 2),\n",
       " (42, 2),\n",
       " (43, 2),\n",
       " (1, 3),\n",
       " (2, 3),\n",
       " (3, 3),\n",
       " (4, 3),\n",
       " (5, 3),\n",
       " (6, 3),\n",
       " (7, 3),\n",
       " (8, 3),\n",
       " (9, 3),\n",
       " (10, 3),\n",
       " (11, 3),\n",
       " (12, 3),\n",
       " (13, 3),\n",
       " (14, 3),\n",
       " (15, 3),\n",
       " (16, 3),\n",
       " (17, 3),\n",
       " (18, 3),\n",
       " (19, 3),\n",
       " (20, 3),\n",
       " (21, 3),\n",
       " (22, 3),\n",
       " (23, 3),\n",
       " (24, 3),\n",
       " (25, 3),\n",
       " (26, 3),\n",
       " (27, 3),\n",
       " (28, 3),\n",
       " (29, 3),\n",
       " (30, 3),\n",
       " (31, 3),\n",
       " (32, 3),\n",
       " (33, 3),\n",
       " (34, 3),\n",
       " (35, 3),\n",
       " (36, 3),\n",
       " (37, 3),\n",
       " (38, 3),\n",
       " (39, 3),\n",
       " (40, 3),\n",
       " (41, 3),\n",
       " (42, 3),\n",
       " (43, 3)]"
      ]
     },
     "execution_count": 60,
     "metadata": {},
     "output_type": "execute_result"
    }
   ],
   "source": [
    "[get_current_tz(file_path) for file_path in sorted_files]"
   ]
  },
  {
   "cell_type": "code",
   "execution_count": 59,
   "metadata": {},
   "outputs": [
    {
     "ename": "TypeError",
     "evalue": "'>' not supported between instances of 'int' and 'NoneType'",
     "output_type": "error",
     "traceback": [
      "\u001b[1;31m---------------------------------------------------------------------------\u001b[0m",
      "\u001b[1;31mTypeError\u001b[0m                                 Traceback (most recent call last)",
      "Cell \u001b[1;32mIn[59], line 1\u001b[0m\n\u001b[1;32m----> 1\u001b[0m tz_max \u001b[39m=\u001b[39m \u001b[39mmax\u001b[39;49m([get_current_tz(file_path) \u001b[39mfor\u001b[39;49;00m file_path \u001b[39min\u001b[39;49;00m sorted_files])\n\u001b[0;32m      2\u001b[0m tz_max\n",
      "\u001b[1;31mTypeError\u001b[0m: '>' not supported between instances of 'int' and 'NoneType'"
     ]
    }
   ],
   "source": [
    "tz_max = max([get_current_tz(file_path) for file_path in sorted_files])\n",
    "tz_max"
   ]
  },
  {
   "cell_type": "code",
   "execution_count": 52,
   "metadata": {},
   "outputs": [
    {
     "name": "stdout",
     "output_type": "stream",
     "text": [
      "None None\n"
     ]
    }
   ],
   "source": [
    "current_t, current_z = None, None\n",
    "file_name = sorted_files[0].stem\n",
    "matches_z = re.search(pattern_z, file_name)\n",
    "if matches_z is not None:\n",
    "    current_z = int(matches_z.group(1)) #.zfill(2)\n",
    "matches_t = re.search(pattern_t, file_name)\n",
    "if matches_t is not None:\n",
    "    current_t = int(matches_t.group(1))\n",
    "print(current_t, current_z)\n",
    "\n",
    "z_list = []\n",
    "t_list = []"
   ]
  },
  {
   "cell_type": "code",
   "execution_count": 22,
   "metadata": {},
   "outputs": [
    {
     "name": "stdout",
     "output_type": "stream",
     "text": [
      "embryo_43pl_2ch_3tps_t1_z1\n",
      "embryo_43pl_2ch_3tps_t1_z10\n",
      "embryo_43pl_2ch_3tps_t1_z11\n",
      "embryo_43pl_2ch_3tps_t1_z12\n",
      "embryo_43pl_2ch_3tps_t1_z13\n",
      "embryo_43pl_2ch_3tps_t1_z14\n",
      "embryo_43pl_2ch_3tps_t1_z15\n",
      "embryo_43pl_2ch_3tps_t1_z16\n",
      "embryo_43pl_2ch_3tps_t1_z17\n",
      "embryo_43pl_2ch_3tps_t1_z18\n",
      "embryo_43pl_2ch_3tps_t1_z19\n",
      "embryo_43pl_2ch_3tps_t1_z2\n",
      "embryo_43pl_2ch_3tps_t1_z20\n",
      "embryo_43pl_2ch_3tps_t1_z21\n",
      "embryo_43pl_2ch_3tps_t1_z22\n",
      "embryo_43pl_2ch_3tps_t1_z23\n",
      "embryo_43pl_2ch_3tps_t1_z24\n",
      "embryo_43pl_2ch_3tps_t1_z25\n",
      "embryo_43pl_2ch_3tps_t1_z26\n",
      "embryo_43pl_2ch_3tps_t1_z27\n",
      "embryo_43pl_2ch_3tps_t1_z28\n",
      "embryo_43pl_2ch_3tps_t1_z29\n",
      "embryo_43pl_2ch_3tps_t1_z3\n",
      "embryo_43pl_2ch_3tps_t1_z30\n",
      "embryo_43pl_2ch_3tps_t1_z31\n",
      "embryo_43pl_2ch_3tps_t1_z32\n",
      "embryo_43pl_2ch_3tps_t1_z33\n",
      "embryo_43pl_2ch_3tps_t1_z34\n",
      "embryo_43pl_2ch_3tps_t1_z35\n",
      "embryo_43pl_2ch_3tps_t1_z36\n",
      "embryo_43pl_2ch_3tps_t1_z37\n",
      "embryo_43pl_2ch_3tps_t1_z38\n",
      "embryo_43pl_2ch_3tps_t1_z39\n",
      "embryo_43pl_2ch_3tps_t1_z4\n",
      "embryo_43pl_2ch_3tps_t1_z40\n",
      "embryo_43pl_2ch_3tps_t1_z41\n",
      "embryo_43pl_2ch_3tps_t1_z42\n",
      "embryo_43pl_2ch_3tps_t1_z43\n",
      "embryo_43pl_2ch_3tps_t1_z5\n",
      "embryo_43pl_2ch_3tps_t1_z6\n",
      "embryo_43pl_2ch_3tps_t1_z7\n",
      "embryo_43pl_2ch_3tps_t1_z8\n",
      "embryo_43pl_2ch_3tps_t1_z9\n",
      "embryo_43pl_2ch_3tps_t2_z1\n",
      "embryo_43pl_2ch_3tps_t2_z10\n",
      "embryo_43pl_2ch_3tps_t2_z11\n",
      "embryo_43pl_2ch_3tps_t2_z12\n",
      "embryo_43pl_2ch_3tps_t2_z13\n",
      "embryo_43pl_2ch_3tps_t2_z14\n",
      "embryo_43pl_2ch_3tps_t2_z15\n",
      "embryo_43pl_2ch_3tps_t2_z16\n",
      "embryo_43pl_2ch_3tps_t2_z17\n",
      "embryo_43pl_2ch_3tps_t2_z18\n",
      "embryo_43pl_2ch_3tps_t2_z19\n",
      "embryo_43pl_2ch_3tps_t2_z2\n",
      "embryo_43pl_2ch_3tps_t2_z20\n",
      "embryo_43pl_2ch_3tps_t2_z21\n",
      "embryo_43pl_2ch_3tps_t2_z22\n",
      "embryo_43pl_2ch_3tps_t2_z23\n",
      "embryo_43pl_2ch_3tps_t2_z24\n",
      "embryo_43pl_2ch_3tps_t2_z25\n",
      "embryo_43pl_2ch_3tps_t2_z26\n",
      "embryo_43pl_2ch_3tps_t2_z27\n",
      "embryo_43pl_2ch_3tps_t2_z28\n",
      "embryo_43pl_2ch_3tps_t2_z29\n",
      "embryo_43pl_2ch_3tps_t2_z3\n",
      "embryo_43pl_2ch_3tps_t2_z30\n",
      "embryo_43pl_2ch_3tps_t2_z31\n",
      "embryo_43pl_2ch_3tps_t2_z32\n",
      "embryo_43pl_2ch_3tps_t2_z33\n",
      "embryo_43pl_2ch_3tps_t2_z34\n",
      "embryo_43pl_2ch_3tps_t2_z35\n",
      "embryo_43pl_2ch_3tps_t2_z36\n",
      "embryo_43pl_2ch_3tps_t2_z37\n",
      "embryo_43pl_2ch_3tps_t2_z38\n",
      "embryo_43pl_2ch_3tps_t2_z39\n",
      "embryo_43pl_2ch_3tps_t2_z4\n",
      "embryo_43pl_2ch_3tps_t2_z40\n",
      "embryo_43pl_2ch_3tps_t2_z41\n",
      "embryo_43pl_2ch_3tps_t2_z42\n",
      "embryo_43pl_2ch_3tps_t2_z43\n",
      "embryo_43pl_2ch_3tps_t2_z5\n",
      "embryo_43pl_2ch_3tps_t2_z6\n",
      "embryo_43pl_2ch_3tps_t2_z7\n",
      "embryo_43pl_2ch_3tps_t2_z8\n",
      "embryo_43pl_2ch_3tps_t2_z9\n",
      "embryo_43pl_2ch_3tps_t3_z1\n",
      "embryo_43pl_2ch_3tps_t3_z10\n",
      "embryo_43pl_2ch_3tps_t3_z11\n",
      "embryo_43pl_2ch_3tps_t3_z12\n",
      "embryo_43pl_2ch_3tps_t3_z13\n",
      "embryo_43pl_2ch_3tps_t3_z14\n",
      "embryo_43pl_2ch_3tps_t3_z15\n",
      "embryo_43pl_2ch_3tps_t3_z16\n",
      "embryo_43pl_2ch_3tps_t3_z17\n",
      "embryo_43pl_2ch_3tps_t3_z18\n",
      "embryo_43pl_2ch_3tps_t3_z19\n",
      "embryo_43pl_2ch_3tps_t3_z2\n",
      "embryo_43pl_2ch_3tps_t3_z20\n",
      "embryo_43pl_2ch_3tps_t3_z21\n",
      "embryo_43pl_2ch_3tps_t3_z22\n",
      "embryo_43pl_2ch_3tps_t3_z23\n",
      "embryo_43pl_2ch_3tps_t3_z24\n",
      "embryo_43pl_2ch_3tps_t3_z25\n",
      "embryo_43pl_2ch_3tps_t3_z26\n",
      "embryo_43pl_2ch_3tps_t3_z27\n",
      "embryo_43pl_2ch_3tps_t3_z28\n",
      "embryo_43pl_2ch_3tps_t3_z29\n",
      "embryo_43pl_2ch_3tps_t3_z3\n",
      "embryo_43pl_2ch_3tps_t3_z30\n",
      "embryo_43pl_2ch_3tps_t3_z31\n",
      "embryo_43pl_2ch_3tps_t3_z32\n",
      "embryo_43pl_2ch_3tps_t3_z33\n",
      "embryo_43pl_2ch_3tps_t3_z34\n",
      "embryo_43pl_2ch_3tps_t3_z35\n",
      "embryo_43pl_2ch_3tps_t3_z36\n",
      "embryo_43pl_2ch_3tps_t3_z37\n",
      "embryo_43pl_2ch_3tps_t3_z38\n",
      "embryo_43pl_2ch_3tps_t3_z39\n",
      "embryo_43pl_2ch_3tps_t3_z4\n",
      "embryo_43pl_2ch_3tps_t3_z40\n",
      "embryo_43pl_2ch_3tps_t3_z41\n",
      "embryo_43pl_2ch_3tps_t3_z42\n",
      "embryo_43pl_2ch_3tps_t3_z43\n",
      "embryo_43pl_2ch_3tps_t3_z5\n",
      "embryo_43pl_2ch_3tps_t3_z6\n",
      "embryo_43pl_2ch_3tps_t3_z7\n",
      "embryo_43pl_2ch_3tps_t3_z8\n",
      "embryo_43pl_2ch_3tps_t3_z9\n"
     ]
    }
   ],
   "source": [
    "pattern_t = '_t(\\d+)'\n",
    "pattern_z = '_z(\\d+)'\n",
    "current_t, current_z = None, None\n",
    "for path in sorted(folder.iterdir()):\n",
    "    if path.suffix ==  '.ptu':\n",
    "        print(path.stem)\n",
    "        file_name = path.stem\n",
    "        matches_z = re.search(pattern_z, file_name)\n",
    "        if matches_z is not None:\n",
    "            current_z = int(matches_z.group(1)) #.zfill(2)\n",
    "        matches_t = re.search(pattern_t, file_name)\n",
    "        if matches_t is not None:\n",
    "            current_t = int(matches_t.group(1))\n",
    "        print(current_t, current_z)"
   ]
  },
  {
   "cell_type": "code",
   "execution_count": 15,
   "metadata": {},
   "outputs": [
    {
     "data": {
      "text/plain": [
       "3"
      ]
     },
     "execution_count": 15,
     "metadata": {},
     "output_type": "execute_result"
    }
   ],
   "source": [
    "current_t"
   ]
  },
  {
   "cell_type": "code",
   "execution_count": 17,
   "metadata": {},
   "outputs": [
    {
     "data": {
      "text/plain": [
       "9"
      ]
     },
     "execution_count": 17,
     "metadata": {},
     "output_type": "execute_result"
    }
   ],
   "source": [
    "current_z"
   ]
  },
  {
   "cell_type": "code",
   "execution_count": 1,
   "metadata": {},
   "outputs": [],
   "source": [
    "file_list = ['file_t2_z1.txt', 'file_t1_z1.txt', 'file_t1.z10.txt', 'file_t1_z2.txt', 'file_t2_z11.txt', 'file_t10_z1.txt']"
   ]
  },
  {
   "cell_type": "code",
   "execution_count": 4,
   "metadata": {},
   "outputs": [
    {
     "name": "stdout",
     "output_type": "stream",
     "text": [
      "['file_t2_z1.txt', 'file_t1_z1.txt', 'file_t1.z10.txt', 'file_t1_z2.txt', 'file_t2_z11.txt', 'file_t10_z1.txt']\n"
     ]
    },
    {
     "ename": "IndexError",
     "evalue": "list index out of range",
     "output_type": "error",
     "traceback": [
      "\u001b[1;31m---------------------------------------------------------------------------\u001b[0m",
      "\u001b[1;31mIndexError\u001b[0m                                Traceback (most recent call last)",
      "Cell \u001b[1;32mIn[4], line 17\u001b[0m\n\u001b[0;32m     15\u001b[0m \u001b[39m# Example usage:\u001b[39;00m\n\u001b[0;32m     16\u001b[0m directory \u001b[39m=\u001b[39m file_list\n\u001b[1;32m---> 17\u001b[0m sorted_files \u001b[39m=\u001b[39m sort_files_by_string_sequence(directory)\n\u001b[0;32m     18\u001b[0m \u001b[39mprint\u001b[39m([f\u001b[39m.\u001b[39mname \u001b[39mfor\u001b[39;00m f \u001b[39min\u001b[39;00m sorted_files])\n",
      "Cell \u001b[1;32mIn[4], line 11\u001b[0m, in \u001b[0;36msort_files_by_string_sequence\u001b[1;34m(directory)\u001b[0m\n\u001b[0;32m      9\u001b[0m \u001b[39mprint\u001b[39m(files)\n\u001b[0;32m     10\u001b[0m \u001b[39m# Sort the list of files based on the string sequence at the end of each file name\u001b[39;00m\n\u001b[1;32m---> 11\u001b[0m sorted_files \u001b[39m=\u001b[39m \u001b[39msorted\u001b[39;49m(files, key\u001b[39m=\u001b[39;49m\u001b[39mlambda\u001b[39;49;00m x: (\u001b[39mint\u001b[39;49m(re\u001b[39m.\u001b[39;49mfindall(\u001b[39mr\u001b[39;49m\u001b[39m'\u001b[39;49m\u001b[39m\\\u001b[39;49m\u001b[39mbt(\u001b[39;49m\u001b[39m\\\u001b[39;49m\u001b[39md+)\u001b[39;49m\u001b[39m'\u001b[39;49m, \u001b[39mstr\u001b[39;49m(x))[\u001b[39m0\u001b[39;49m]), \u001b[39mint\u001b[39;49m(re\u001b[39m.\u001b[39;49mfindall(\u001b[39mr\u001b[39;49m\u001b[39m'\u001b[39;49m\u001b[39m\\\u001b[39;49m\u001b[39mbz(\u001b[39;49m\u001b[39m\\\u001b[39;49m\u001b[39md+)\u001b[39;49m\u001b[39m'\u001b[39;49m, \u001b[39mstr\u001b[39;49m(x))[\u001b[39m0\u001b[39;49m])))\n\u001b[0;32m     13\u001b[0m \u001b[39mreturn\u001b[39;00m sorted_files\n",
      "Cell \u001b[1;32mIn[4], line 11\u001b[0m, in \u001b[0;36msort_files_by_string_sequence.<locals>.<lambda>\u001b[1;34m(x)\u001b[0m\n\u001b[0;32m      9\u001b[0m \u001b[39mprint\u001b[39m(files)\n\u001b[0;32m     10\u001b[0m \u001b[39m# Sort the list of files based on the string sequence at the end of each file name\u001b[39;00m\n\u001b[1;32m---> 11\u001b[0m sorted_files \u001b[39m=\u001b[39m \u001b[39msorted\u001b[39m(files, key\u001b[39m=\u001b[39m\u001b[39mlambda\u001b[39;00m x: (\u001b[39mint\u001b[39m(re\u001b[39m.\u001b[39;49mfindall(\u001b[39mr\u001b[39;49m\u001b[39m'\u001b[39;49m\u001b[39m\\\u001b[39;49m\u001b[39mbt(\u001b[39;49m\u001b[39m\\\u001b[39;49m\u001b[39md+)\u001b[39;49m\u001b[39m'\u001b[39;49m, \u001b[39mstr\u001b[39;49m(x))[\u001b[39m0\u001b[39;49m]), \u001b[39mint\u001b[39m(re\u001b[39m.\u001b[39mfindall(\u001b[39mr\u001b[39m\u001b[39m'\u001b[39m\u001b[39m\\\u001b[39m\u001b[39mbz(\u001b[39m\u001b[39m\\\u001b[39m\u001b[39md+)\u001b[39m\u001b[39m'\u001b[39m, \u001b[39mstr\u001b[39m(x))[\u001b[39m0\u001b[39m])))\n\u001b[0;32m     13\u001b[0m \u001b[39mreturn\u001b[39;00m sorted_files\n",
      "\u001b[1;31mIndexError\u001b[0m: list index out of range"
     ]
    }
   ],
   "source": [
    "import pathlib\n",
    "import re\n",
    "\n",
    "def sort_files_by_string_sequence(directory):\n",
    "    # Get a list of all files in the directory\n",
    "    # path = pathlib.Path(directory)\n",
    "    # files = [f for f in path.iterdir() if f.is_file()]\n",
    "    files = directory\n",
    "    print(files)\n",
    "    # Sort the list of files based on the string sequence at the end of each file name\n",
    "    sorted_files = sorted(files, key=lambda x: (int(re.findall(r'\\bt(\\d+)', str(x))[0]), int(re.findall(r'\\bz(\\d+)', str(x))[0])))\n",
    "\n",
    "    return sorted_files\n",
    "\n",
    "# Example usage:\n",
    "directory = file_list\n",
    "sorted_files = sort_files_by_string_sequence(directory)\n",
    "print([f.name for f in sorted_files])"
   ]
  },
  {
   "cell_type": "code",
   "execution_count": 8,
   "metadata": {},
   "outputs": [
    {
     "ename": "IndexError",
     "evalue": "list index out of range",
     "output_type": "error",
     "traceback": [
      "\u001b[1;31m---------------------------------------------------------------------------\u001b[0m",
      "\u001b[1;31mIndexError\u001b[0m                                Traceback (most recent call last)",
      "Cell \u001b[1;32mIn[8], line 16\u001b[0m\n\u001b[0;32m     14\u001b[0m \u001b[39m# Example usage:\u001b[39;00m\n\u001b[0;32m     15\u001b[0m directory \u001b[39m=\u001b[39m folder\n\u001b[1;32m---> 16\u001b[0m sorted_files \u001b[39m=\u001b[39m sort_files_by_string_sequence(directory)\n\u001b[0;32m     17\u001b[0m \u001b[39mprint\u001b[39m([f\u001b[39m.\u001b[39mname \u001b[39mfor\u001b[39;00m f \u001b[39min\u001b[39;00m sorted_files])\n",
      "Cell \u001b[1;32mIn[8], line 10\u001b[0m, in \u001b[0;36msort_files_by_string_sequence\u001b[1;34m(directory)\u001b[0m\n\u001b[0;32m      7\u001b[0m files \u001b[39m=\u001b[39m [f \u001b[39mfor\u001b[39;00m f \u001b[39min\u001b[39;00m path\u001b[39m.\u001b[39miterdir() \u001b[39mif\u001b[39;00m f\u001b[39m.\u001b[39mis_file()]\n\u001b[0;32m      9\u001b[0m \u001b[39m# Sort the list of files based on the string sequence at the end of each file name\u001b[39;00m\n\u001b[1;32m---> 10\u001b[0m sorted_files \u001b[39m=\u001b[39m \u001b[39msorted\u001b[39;49m(files, key\u001b[39m=\u001b[39;49m\u001b[39mlambda\u001b[39;49;00m x: (\u001b[39mint\u001b[39;49m(re\u001b[39m.\u001b[39;49mfindall(\u001b[39mr\u001b[39;49m\u001b[39m'\u001b[39;49m\u001b[39m\\\u001b[39;49m\u001b[39mbt(\u001b[39;49m\u001b[39m\\\u001b[39;49m\u001b[39md+)\u001b[39;49m\u001b[39m'\u001b[39;49m, \u001b[39mstr\u001b[39;49m(x))[\u001b[39m0\u001b[39;49m]), \u001b[39mint\u001b[39;49m(re\u001b[39m.\u001b[39;49mfindall(\u001b[39mr\u001b[39;49m\u001b[39m'\u001b[39;49m\u001b[39m\\\u001b[39;49m\u001b[39mbz(\u001b[39;49m\u001b[39m\\\u001b[39;49m\u001b[39md+)\u001b[39;49m\u001b[39m'\u001b[39;49m, \u001b[39mstr\u001b[39;49m(x))[\u001b[39m0\u001b[39;49m])))\n\u001b[0;32m     12\u001b[0m \u001b[39mreturn\u001b[39;00m sorted_files\n",
      "Cell \u001b[1;32mIn[8], line 10\u001b[0m, in \u001b[0;36msort_files_by_string_sequence.<locals>.<lambda>\u001b[1;34m(x)\u001b[0m\n\u001b[0;32m      7\u001b[0m files \u001b[39m=\u001b[39m [f \u001b[39mfor\u001b[39;00m f \u001b[39min\u001b[39;00m path\u001b[39m.\u001b[39miterdir() \u001b[39mif\u001b[39;00m f\u001b[39m.\u001b[39mis_file()]\n\u001b[0;32m      9\u001b[0m \u001b[39m# Sort the list of files based on the string sequence at the end of each file name\u001b[39;00m\n\u001b[1;32m---> 10\u001b[0m sorted_files \u001b[39m=\u001b[39m \u001b[39msorted\u001b[39m(files, key\u001b[39m=\u001b[39m\u001b[39mlambda\u001b[39;00m x: (\u001b[39mint\u001b[39m(re\u001b[39m.\u001b[39;49mfindall(\u001b[39mr\u001b[39;49m\u001b[39m'\u001b[39;49m\u001b[39m\\\u001b[39;49m\u001b[39mbt(\u001b[39;49m\u001b[39m\\\u001b[39;49m\u001b[39md+)\u001b[39;49m\u001b[39m'\u001b[39;49m, \u001b[39mstr\u001b[39;49m(x))[\u001b[39m0\u001b[39;49m]), \u001b[39mint\u001b[39m(re\u001b[39m.\u001b[39mfindall(\u001b[39mr\u001b[39m\u001b[39m'\u001b[39m\u001b[39m\\\u001b[39m\u001b[39mbz(\u001b[39m\u001b[39m\\\u001b[39m\u001b[39md+)\u001b[39m\u001b[39m'\u001b[39m, \u001b[39mstr\u001b[39m(x))[\u001b[39m0\u001b[39m])))\n\u001b[0;32m     12\u001b[0m \u001b[39mreturn\u001b[39;00m sorted_files\n",
      "\u001b[1;31mIndexError\u001b[0m: list index out of range"
     ]
    }
   ],
   "source": [
    "import pathlib\n",
    "import re\n",
    "\n",
    "def sort_files_by_string_sequence(directory):\n",
    "    # Get a list of all files in the directory\n",
    "    path = pathlib.Path(directory)\n",
    "    files = [f for f in path.iterdir() if f.is_file()]\n",
    "\n",
    "    # Sort the list of files based on the string sequence at the end of each file name\n",
    "    sorted_files = sorted(files, key=lambda x: (int(re.findall(r'\\bt(\\d+)', str(x))[0]), int(re.findall(r'\\bz(\\d+)', str(x))[0])))\n",
    "\n",
    "    return sorted_files\n",
    "\n",
    "# Example usage:\n",
    "directory = folder\n",
    "sorted_files = sort_files_by_string_sequence(directory)\n",
    "print([f.name for f in sorted_files])"
   ]
  },
  {
   "cell_type": "code",
   "execution_count": null,
   "metadata": {},
   "outputs": [],
   "source": []
  }
 ],
 "metadata": {
  "kernelspec": {
   "display_name": "napari-flim-dev",
   "language": "python",
   "name": "python3"
  },
  "language_info": {
   "codemirror_mode": {
    "name": "ipython",
    "version": 3
   },
   "file_extension": ".py",
   "mimetype": "text/x-python",
   "name": "python",
   "nbconvert_exporter": "python",
   "pygments_lexer": "ipython3",
   "version": "3.9.15"
  },
  "orig_nbformat": 4,
  "vscode": {
   "interpreter": {
    "hash": "293a2fb3bd80c18c1b6aa48916a4e09006681d5b4115ccc7e131bbba5490c6b8"
   }
  }
 },
 "nbformat": 4,
 "nbformat_minor": 2
}
