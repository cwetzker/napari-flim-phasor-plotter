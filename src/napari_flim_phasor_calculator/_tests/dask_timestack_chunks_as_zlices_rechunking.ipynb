{
 "cells": [
  {
   "cell_type": "code",
   "execution_count": 1,
   "metadata": {},
   "outputs": [],
   "source": [
    "import skimage.io\n",
    "import dask.array as da\n",
    "import dask\n",
    "from pathlib import Path\n",
    "import napari\n",
    "from natsort import natsorted\n",
    "import numpy as np\n",
    "from napari_flim_phasor_calculator._reader import get_current_tz\n"
   ]
  },
  {
   "attachments": {},
   "cell_type": "markdown",
   "metadata": {},
   "source": [
    "Define read 2d and 3d functions"
   ]
  },
  {
   "cell_type": "code",
   "execution_count": 2,
   "metadata": {},
   "outputs": [],
   "source": [
    "\n",
    "folder_path = r\"C:\\Users\\mazo260d\\Desktop\\Conni_BiA_PoL\\embryo_FLIM_data\\raw_data_embryo_stack_3tps_43pl_2ch\\output_as_tif\"\n",
    "\n",
    "folder_path = Path(folder_path)\n",
    "\n",
    "def read_tif_data_2D(path):\n",
    "    from skimage.io import imread\n",
    "    image = imread(path)\n",
    "    return image\n",
    "\n",
    "def read_tif_data_3D(file_paths, image_slice_max_shape):\n",
    "    file_paths = natsorted(file_paths)\n",
    "    z_list = []\n",
    "    for file_path in file_paths:\n",
    "        if file_path.suffix == '.tif':\n",
    "            current_t, current_z = get_current_tz(file_path)\n",
    "            data = read_tif_data_2D(file_path)\n",
    "            if current_z is not None:\n",
    "                image = np.zeros(image_slice_max_shape, dtype=data.dtype)\n",
    "                image[:data.shape[0], :data.shape[1], :data.shape[2], :data.shape[3]] = data\n",
    "                z_list.append(image)\n",
    "    image_3D = np.stack(z_list)\n",
    "    # move channel and microtime to the beginning (putting z behind them): from (z, ch, mt, y, x) to (ch, mt, z, y, x)\n",
    "    image_3D = np.moveaxis(image_3D, [-4, -3], [0, 1])\n",
    "    return image_3D"
   ]
  },
  {
   "attachments": {},
   "cell_type": "markdown",
   "metadata": {},
   "source": [
    "Get max slice shape"
   ]
  },
  {
   "cell_type": "code",
   "execution_count": 3,
   "metadata": {},
   "outputs": [
    {
     "name": "stdout",
     "output_type": "stream",
     "text": [
      "last_slice_shape =  (2, 132, 256, 256) image_dtype =  uint16\n",
      "max_slice_shape =  (2, 138, 256, 256)\n"
     ]
    }
   ],
   "source": [
    "# Read all slices to get slice max shape and dtype (not ideal but for now it is OK)\n",
    "slice_shape_list = []\n",
    "for file_path in folder_path.iterdir():\n",
    "    if file_path.suffix == '.tif':\n",
    "        image_2D = read_tif_data_2D(file_path)\n",
    "        slice_shape_list.append(image_2D.shape)\n",
    "slice_max_shape = max(slice_shape_list)\n",
    "print('last_slice_shape = ', image_2D.shape,'image_dtype = ', image_2D.dtype)\n",
    "print('max_slice_shape = ', slice_max_shape)"
   ]
  },
  {
   "attachments": {},
   "cell_type": "markdown",
   "metadata": {},
   "source": [
    "Get max z slices and max t timepoints from filepaths"
   ]
  },
  {
   "cell_type": "code",
   "execution_count": 4,
   "metadata": {},
   "outputs": [
    {
     "name": "stdout",
     "output_type": "stream",
     "text": [
      "max_z slices =  43\n",
      "max_time =  3\n"
     ]
    }
   ],
   "source": [
    "file_paths = [file_path for file_path in folder_path.iterdir() if file_path.suffix == '.tif']\n",
    "\n",
    "# Get max z slices by reading all file names\n",
    "def get_max_zslices(file_paths):\n",
    "    max_z = max([get_current_tz(file_path) for file_path in file_paths if file_path.suffix == '.tif'])[1]\n",
    "    if max_z is None:\n",
    "        return 1\n",
    "    return max_z\n",
    "def get_max_time(file_paths):\n",
    "    max_time = max([get_current_tz(file_path) for file_path in file_paths if file_path.suffix == '.tif'])[0]\n",
    "    if max_time is None:\n",
    "        return 1\n",
    "    return max_time\n",
    "\n",
    "max_z = get_max_zslices(file_paths)\n",
    "print('max_z slices = ', max_z)\n",
    "max_t = get_max_time(file_paths)\n",
    "print('max_time = ', max_t)"
   ]
  },
  {
   "attachments": {},
   "cell_type": "markdown",
   "metadata": {},
   "source": [
    "Get stack max shape"
   ]
  },
  {
   "cell_type": "code",
   "execution_count": 5,
   "metadata": {},
   "outputs": [
    {
     "data": {
      "text/plain": [
       "(2, 138, 43, 256, 256)"
      ]
     },
     "execution_count": 5,
     "metadata": {},
     "output_type": "execute_result"
    }
   ],
   "source": [
    "image_stack_shape = (*slice_max_shape[:-2], max_z, *slice_max_shape[-2:])\n",
    "image_stack_shape\n"
   ]
  },
  {
   "attachments": {},
   "cell_type": "markdown",
   "metadata": {},
   "source": [
    "Make dask array"
   ]
  },
  {
   "cell_type": "code",
   "execution_count": 10,
   "metadata": {},
   "outputs": [
    {
     "name": "stdout",
     "output_type": "stream",
     "text": [
      "1 1\n",
      "1 2\n",
      "1 3\n",
      "1 4\n",
      "1 5\n",
      "1 6\n",
      "1 7\n",
      "1 8\n",
      "1 9\n",
      "1 10\n",
      "1 11\n",
      "1 12\n",
      "1 13\n",
      "1 14\n",
      "1 15\n",
      "1 16\n",
      "1 17\n",
      "1 18\n",
      "1 19\n",
      "1 20\n",
      "1 21\n",
      "1 22\n",
      "1 23\n",
      "1 24\n",
      "1 25\n",
      "1 26\n",
      "1 27\n",
      "1 28\n",
      "1 29\n",
      "1 30\n",
      "1 31\n",
      "1 32\n",
      "1 33\n",
      "1 34\n",
      "1 35\n",
      "1 36\n",
      "1 37\n",
      "1 38\n",
      "1 39\n",
      "1 40\n",
      "1 41\n",
      "1 42\n",
      "1 43\n",
      "2 1\n",
      "2 2\n",
      "2 3\n",
      "2 4\n",
      "2 5\n",
      "2 6\n",
      "2 7\n",
      "2 8\n",
      "2 9\n",
      "2 10\n",
      "2 11\n",
      "2 12\n",
      "2 13\n",
      "2 14\n",
      "2 15\n",
      "2 16\n",
      "2 17\n",
      "2 18\n",
      "2 19\n",
      "2 20\n",
      "2 21\n",
      "2 22\n",
      "2 23\n",
      "2 24\n",
      "2 25\n",
      "2 26\n",
      "2 27\n",
      "2 28\n",
      "2 29\n",
      "2 30\n",
      "2 31\n",
      "2 32\n",
      "2 33\n",
      "2 34\n",
      "2 35\n",
      "2 36\n",
      "2 37\n",
      "2 38\n",
      "2 39\n",
      "2 40\n",
      "2 41\n",
      "2 42\n",
      "2 43\n",
      "3 1\n",
      "3 2\n",
      "3 3\n",
      "3 4\n",
      "3 5\n",
      "3 6\n",
      "3 7\n",
      "3 8\n",
      "3 9\n",
      "3 10\n",
      "3 11\n",
      "3 12\n",
      "3 13\n",
      "3 14\n",
      "3 15\n",
      "3 16\n",
      "3 17\n",
      "3 18\n",
      "3 19\n",
      "3 20\n",
      "3 21\n",
      "3 22\n",
      "3 23\n",
      "3 24\n",
      "3 25\n",
      "3 26\n",
      "3 27\n",
      "3 28\n",
      "3 29\n",
      "3 30\n",
      "3 31\n",
      "3 32\n",
      "3 33\n",
      "3 34\n",
      "3 35\n",
      "3 36\n",
      "3 37\n",
      "3 38\n",
      "3 39\n",
      "3 40\n",
      "3 41\n",
      "3 42\n",
      "3 43\n"
     ]
    }
   ],
   "source": [
    "t_path_list = []\n",
    "z_path_list = []\n",
    "file_paths = natsorted(file_paths)\n",
    "previous_t = 1\n",
    "for file_path in file_paths:\n",
    "    if file_path.suffix == '.tif':\n",
    "        current_t, current_z = get_current_tz(file_path)\n",
    "        print(current_t, current_z)\n",
    "        if current_t is not None:\n",
    "            if current_t > previous_t:\n",
    "                t_path_list.append(z_path_list)\n",
    "                z_path_list = []\n",
    "                previous_t = current_t\n",
    "            z_path_list.append(file_path)\n",
    "\n",
    "# If no timepoints, z+path_list is file_paths\n",
    "if current_t is None:\n",
    "    z_path_list = file_paths\n",
    "\n",
    "# Append last timepoint\n",
    "t_path_list.append(z_path_list)\n"
   ]
  },
  {
   "cell_type": "code",
   "execution_count": 11,
   "metadata": {},
   "outputs": [
    {
     "data": {
      "text/plain": [
       "[WindowsPath('C:/Users/mazo260d/Desktop/Conni_BiA_PoL/embryo_FLIM_data/raw_data_embryo_stack_3tps_43pl_2ch/output_as_tif/embryo_43pl_2ch_3tps_t3_z1.tif'),\n",
       " WindowsPath('C:/Users/mazo260d/Desktop/Conni_BiA_PoL/embryo_FLIM_data/raw_data_embryo_stack_3tps_43pl_2ch/output_as_tif/embryo_43pl_2ch_3tps_t3_z2.tif'),\n",
       " WindowsPath('C:/Users/mazo260d/Desktop/Conni_BiA_PoL/embryo_FLIM_data/raw_data_embryo_stack_3tps_43pl_2ch/output_as_tif/embryo_43pl_2ch_3tps_t3_z3.tif'),\n",
       " WindowsPath('C:/Users/mazo260d/Desktop/Conni_BiA_PoL/embryo_FLIM_data/raw_data_embryo_stack_3tps_43pl_2ch/output_as_tif/embryo_43pl_2ch_3tps_t3_z4.tif'),\n",
       " WindowsPath('C:/Users/mazo260d/Desktop/Conni_BiA_PoL/embryo_FLIM_data/raw_data_embryo_stack_3tps_43pl_2ch/output_as_tif/embryo_43pl_2ch_3tps_t3_z5.tif'),\n",
       " WindowsPath('C:/Users/mazo260d/Desktop/Conni_BiA_PoL/embryo_FLIM_data/raw_data_embryo_stack_3tps_43pl_2ch/output_as_tif/embryo_43pl_2ch_3tps_t3_z6.tif'),\n",
       " WindowsPath('C:/Users/mazo260d/Desktop/Conni_BiA_PoL/embryo_FLIM_data/raw_data_embryo_stack_3tps_43pl_2ch/output_as_tif/embryo_43pl_2ch_3tps_t3_z7.tif'),\n",
       " WindowsPath('C:/Users/mazo260d/Desktop/Conni_BiA_PoL/embryo_FLIM_data/raw_data_embryo_stack_3tps_43pl_2ch/output_as_tif/embryo_43pl_2ch_3tps_t3_z8.tif'),\n",
       " WindowsPath('C:/Users/mazo260d/Desktop/Conni_BiA_PoL/embryo_FLIM_data/raw_data_embryo_stack_3tps_43pl_2ch/output_as_tif/embryo_43pl_2ch_3tps_t3_z9.tif'),\n",
       " WindowsPath('C:/Users/mazo260d/Desktop/Conni_BiA_PoL/embryo_FLIM_data/raw_data_embryo_stack_3tps_43pl_2ch/output_as_tif/embryo_43pl_2ch_3tps_t3_z10.tif'),\n",
       " WindowsPath('C:/Users/mazo260d/Desktop/Conni_BiA_PoL/embryo_FLIM_data/raw_data_embryo_stack_3tps_43pl_2ch/output_as_tif/embryo_43pl_2ch_3tps_t3_z11.tif'),\n",
       " WindowsPath('C:/Users/mazo260d/Desktop/Conni_BiA_PoL/embryo_FLIM_data/raw_data_embryo_stack_3tps_43pl_2ch/output_as_tif/embryo_43pl_2ch_3tps_t3_z12.tif'),\n",
       " WindowsPath('C:/Users/mazo260d/Desktop/Conni_BiA_PoL/embryo_FLIM_data/raw_data_embryo_stack_3tps_43pl_2ch/output_as_tif/embryo_43pl_2ch_3tps_t3_z13.tif'),\n",
       " WindowsPath('C:/Users/mazo260d/Desktop/Conni_BiA_PoL/embryo_FLIM_data/raw_data_embryo_stack_3tps_43pl_2ch/output_as_tif/embryo_43pl_2ch_3tps_t3_z14.tif'),\n",
       " WindowsPath('C:/Users/mazo260d/Desktop/Conni_BiA_PoL/embryo_FLIM_data/raw_data_embryo_stack_3tps_43pl_2ch/output_as_tif/embryo_43pl_2ch_3tps_t3_z15.tif'),\n",
       " WindowsPath('C:/Users/mazo260d/Desktop/Conni_BiA_PoL/embryo_FLIM_data/raw_data_embryo_stack_3tps_43pl_2ch/output_as_tif/embryo_43pl_2ch_3tps_t3_z16.tif'),\n",
       " WindowsPath('C:/Users/mazo260d/Desktop/Conni_BiA_PoL/embryo_FLIM_data/raw_data_embryo_stack_3tps_43pl_2ch/output_as_tif/embryo_43pl_2ch_3tps_t3_z17.tif'),\n",
       " WindowsPath('C:/Users/mazo260d/Desktop/Conni_BiA_PoL/embryo_FLIM_data/raw_data_embryo_stack_3tps_43pl_2ch/output_as_tif/embryo_43pl_2ch_3tps_t3_z18.tif'),\n",
       " WindowsPath('C:/Users/mazo260d/Desktop/Conni_BiA_PoL/embryo_FLIM_data/raw_data_embryo_stack_3tps_43pl_2ch/output_as_tif/embryo_43pl_2ch_3tps_t3_z19.tif'),\n",
       " WindowsPath('C:/Users/mazo260d/Desktop/Conni_BiA_PoL/embryo_FLIM_data/raw_data_embryo_stack_3tps_43pl_2ch/output_as_tif/embryo_43pl_2ch_3tps_t3_z20.tif'),\n",
       " WindowsPath('C:/Users/mazo260d/Desktop/Conni_BiA_PoL/embryo_FLIM_data/raw_data_embryo_stack_3tps_43pl_2ch/output_as_tif/embryo_43pl_2ch_3tps_t3_z21.tif'),\n",
       " WindowsPath('C:/Users/mazo260d/Desktop/Conni_BiA_PoL/embryo_FLIM_data/raw_data_embryo_stack_3tps_43pl_2ch/output_as_tif/embryo_43pl_2ch_3tps_t3_z22.tif'),\n",
       " WindowsPath('C:/Users/mazo260d/Desktop/Conni_BiA_PoL/embryo_FLIM_data/raw_data_embryo_stack_3tps_43pl_2ch/output_as_tif/embryo_43pl_2ch_3tps_t3_z23.tif'),\n",
       " WindowsPath('C:/Users/mazo260d/Desktop/Conni_BiA_PoL/embryo_FLIM_data/raw_data_embryo_stack_3tps_43pl_2ch/output_as_tif/embryo_43pl_2ch_3tps_t3_z24.tif'),\n",
       " WindowsPath('C:/Users/mazo260d/Desktop/Conni_BiA_PoL/embryo_FLIM_data/raw_data_embryo_stack_3tps_43pl_2ch/output_as_tif/embryo_43pl_2ch_3tps_t3_z25.tif'),\n",
       " WindowsPath('C:/Users/mazo260d/Desktop/Conni_BiA_PoL/embryo_FLIM_data/raw_data_embryo_stack_3tps_43pl_2ch/output_as_tif/embryo_43pl_2ch_3tps_t3_z26.tif'),\n",
       " WindowsPath('C:/Users/mazo260d/Desktop/Conni_BiA_PoL/embryo_FLIM_data/raw_data_embryo_stack_3tps_43pl_2ch/output_as_tif/embryo_43pl_2ch_3tps_t3_z27.tif'),\n",
       " WindowsPath('C:/Users/mazo260d/Desktop/Conni_BiA_PoL/embryo_FLIM_data/raw_data_embryo_stack_3tps_43pl_2ch/output_as_tif/embryo_43pl_2ch_3tps_t3_z28.tif'),\n",
       " WindowsPath('C:/Users/mazo260d/Desktop/Conni_BiA_PoL/embryo_FLIM_data/raw_data_embryo_stack_3tps_43pl_2ch/output_as_tif/embryo_43pl_2ch_3tps_t3_z29.tif'),\n",
       " WindowsPath('C:/Users/mazo260d/Desktop/Conni_BiA_PoL/embryo_FLIM_data/raw_data_embryo_stack_3tps_43pl_2ch/output_as_tif/embryo_43pl_2ch_3tps_t3_z30.tif'),\n",
       " WindowsPath('C:/Users/mazo260d/Desktop/Conni_BiA_PoL/embryo_FLIM_data/raw_data_embryo_stack_3tps_43pl_2ch/output_as_tif/embryo_43pl_2ch_3tps_t3_z31.tif'),\n",
       " WindowsPath('C:/Users/mazo260d/Desktop/Conni_BiA_PoL/embryo_FLIM_data/raw_data_embryo_stack_3tps_43pl_2ch/output_as_tif/embryo_43pl_2ch_3tps_t3_z32.tif'),\n",
       " WindowsPath('C:/Users/mazo260d/Desktop/Conni_BiA_PoL/embryo_FLIM_data/raw_data_embryo_stack_3tps_43pl_2ch/output_as_tif/embryo_43pl_2ch_3tps_t3_z33.tif'),\n",
       " WindowsPath('C:/Users/mazo260d/Desktop/Conni_BiA_PoL/embryo_FLIM_data/raw_data_embryo_stack_3tps_43pl_2ch/output_as_tif/embryo_43pl_2ch_3tps_t3_z34.tif'),\n",
       " WindowsPath('C:/Users/mazo260d/Desktop/Conni_BiA_PoL/embryo_FLIM_data/raw_data_embryo_stack_3tps_43pl_2ch/output_as_tif/embryo_43pl_2ch_3tps_t3_z35.tif'),\n",
       " WindowsPath('C:/Users/mazo260d/Desktop/Conni_BiA_PoL/embryo_FLIM_data/raw_data_embryo_stack_3tps_43pl_2ch/output_as_tif/embryo_43pl_2ch_3tps_t3_z36.tif'),\n",
       " WindowsPath('C:/Users/mazo260d/Desktop/Conni_BiA_PoL/embryo_FLIM_data/raw_data_embryo_stack_3tps_43pl_2ch/output_as_tif/embryo_43pl_2ch_3tps_t3_z37.tif'),\n",
       " WindowsPath('C:/Users/mazo260d/Desktop/Conni_BiA_PoL/embryo_FLIM_data/raw_data_embryo_stack_3tps_43pl_2ch/output_as_tif/embryo_43pl_2ch_3tps_t3_z38.tif'),\n",
       " WindowsPath('C:/Users/mazo260d/Desktop/Conni_BiA_PoL/embryo_FLIM_data/raw_data_embryo_stack_3tps_43pl_2ch/output_as_tif/embryo_43pl_2ch_3tps_t3_z39.tif'),\n",
       " WindowsPath('C:/Users/mazo260d/Desktop/Conni_BiA_PoL/embryo_FLIM_data/raw_data_embryo_stack_3tps_43pl_2ch/output_as_tif/embryo_43pl_2ch_3tps_t3_z40.tif'),\n",
       " WindowsPath('C:/Users/mazo260d/Desktop/Conni_BiA_PoL/embryo_FLIM_data/raw_data_embryo_stack_3tps_43pl_2ch/output_as_tif/embryo_43pl_2ch_3tps_t3_z41.tif'),\n",
       " WindowsPath('C:/Users/mazo260d/Desktop/Conni_BiA_PoL/embryo_FLIM_data/raw_data_embryo_stack_3tps_43pl_2ch/output_as_tif/embryo_43pl_2ch_3tps_t3_z42.tif'),\n",
       " WindowsPath('C:/Users/mazo260d/Desktop/Conni_BiA_PoL/embryo_FLIM_data/raw_data_embryo_stack_3tps_43pl_2ch/output_as_tif/embryo_43pl_2ch_3tps_t3_z43.tif')]"
      ]
     },
     "execution_count": 11,
     "metadata": {},
     "output_type": "execute_result"
    }
   ],
   "source": [
    "z_path_list"
   ]
  },
  {
   "cell_type": "code",
   "execution_count": 12,
   "metadata": {},
   "outputs": [
    {
     "name": "stdout",
     "output_type": "stream",
     "text": [
      "[WindowsPath('C:/Users/mazo260d/Desktop/Conni_BiA_PoL/embryo_FLIM_data/raw_data_embryo_stack_3tps_43pl_2ch/output_as_tif/embryo_43pl_2ch_3tps_t1_z1.tif'), WindowsPath('C:/Users/mazo260d/Desktop/Conni_BiA_PoL/embryo_FLIM_data/raw_data_embryo_stack_3tps_43pl_2ch/output_as_tif/embryo_43pl_2ch_3tps_t1_z2.tif'), WindowsPath('C:/Users/mazo260d/Desktop/Conni_BiA_PoL/embryo_FLIM_data/raw_data_embryo_stack_3tps_43pl_2ch/output_as_tif/embryo_43pl_2ch_3tps_t1_z3.tif'), WindowsPath('C:/Users/mazo260d/Desktop/Conni_BiA_PoL/embryo_FLIM_data/raw_data_embryo_stack_3tps_43pl_2ch/output_as_tif/embryo_43pl_2ch_3tps_t1_z4.tif'), WindowsPath('C:/Users/mazo260d/Desktop/Conni_BiA_PoL/embryo_FLIM_data/raw_data_embryo_stack_3tps_43pl_2ch/output_as_tif/embryo_43pl_2ch_3tps_t1_z5.tif'), WindowsPath('C:/Users/mazo260d/Desktop/Conni_BiA_PoL/embryo_FLIM_data/raw_data_embryo_stack_3tps_43pl_2ch/output_as_tif/embryo_43pl_2ch_3tps_t1_z6.tif'), WindowsPath('C:/Users/mazo260d/Desktop/Conni_BiA_PoL/embryo_FLIM_data/raw_data_embryo_stack_3tps_43pl_2ch/output_as_tif/embryo_43pl_2ch_3tps_t1_z7.tif'), WindowsPath('C:/Users/mazo260d/Desktop/Conni_BiA_PoL/embryo_FLIM_data/raw_data_embryo_stack_3tps_43pl_2ch/output_as_tif/embryo_43pl_2ch_3tps_t1_z8.tif'), WindowsPath('C:/Users/mazo260d/Desktop/Conni_BiA_PoL/embryo_FLIM_data/raw_data_embryo_stack_3tps_43pl_2ch/output_as_tif/embryo_43pl_2ch_3tps_t1_z9.tif'), WindowsPath('C:/Users/mazo260d/Desktop/Conni_BiA_PoL/embryo_FLIM_data/raw_data_embryo_stack_3tps_43pl_2ch/output_as_tif/embryo_43pl_2ch_3tps_t1_z10.tif'), WindowsPath('C:/Users/mazo260d/Desktop/Conni_BiA_PoL/embryo_FLIM_data/raw_data_embryo_stack_3tps_43pl_2ch/output_as_tif/embryo_43pl_2ch_3tps_t1_z11.tif'), WindowsPath('C:/Users/mazo260d/Desktop/Conni_BiA_PoL/embryo_FLIM_data/raw_data_embryo_stack_3tps_43pl_2ch/output_as_tif/embryo_43pl_2ch_3tps_t1_z12.tif'), WindowsPath('C:/Users/mazo260d/Desktop/Conni_BiA_PoL/embryo_FLIM_data/raw_data_embryo_stack_3tps_43pl_2ch/output_as_tif/embryo_43pl_2ch_3tps_t1_z13.tif'), WindowsPath('C:/Users/mazo260d/Desktop/Conni_BiA_PoL/embryo_FLIM_data/raw_data_embryo_stack_3tps_43pl_2ch/output_as_tif/embryo_43pl_2ch_3tps_t1_z14.tif'), WindowsPath('C:/Users/mazo260d/Desktop/Conni_BiA_PoL/embryo_FLIM_data/raw_data_embryo_stack_3tps_43pl_2ch/output_as_tif/embryo_43pl_2ch_3tps_t1_z15.tif'), WindowsPath('C:/Users/mazo260d/Desktop/Conni_BiA_PoL/embryo_FLIM_data/raw_data_embryo_stack_3tps_43pl_2ch/output_as_tif/embryo_43pl_2ch_3tps_t1_z16.tif'), WindowsPath('C:/Users/mazo260d/Desktop/Conni_BiA_PoL/embryo_FLIM_data/raw_data_embryo_stack_3tps_43pl_2ch/output_as_tif/embryo_43pl_2ch_3tps_t1_z17.tif'), WindowsPath('C:/Users/mazo260d/Desktop/Conni_BiA_PoL/embryo_FLIM_data/raw_data_embryo_stack_3tps_43pl_2ch/output_as_tif/embryo_43pl_2ch_3tps_t1_z18.tif'), WindowsPath('C:/Users/mazo260d/Desktop/Conni_BiA_PoL/embryo_FLIM_data/raw_data_embryo_stack_3tps_43pl_2ch/output_as_tif/embryo_43pl_2ch_3tps_t1_z19.tif'), WindowsPath('C:/Users/mazo260d/Desktop/Conni_BiA_PoL/embryo_FLIM_data/raw_data_embryo_stack_3tps_43pl_2ch/output_as_tif/embryo_43pl_2ch_3tps_t1_z20.tif'), WindowsPath('C:/Users/mazo260d/Desktop/Conni_BiA_PoL/embryo_FLIM_data/raw_data_embryo_stack_3tps_43pl_2ch/output_as_tif/embryo_43pl_2ch_3tps_t1_z21.tif'), WindowsPath('C:/Users/mazo260d/Desktop/Conni_BiA_PoL/embryo_FLIM_data/raw_data_embryo_stack_3tps_43pl_2ch/output_as_tif/embryo_43pl_2ch_3tps_t1_z22.tif'), WindowsPath('C:/Users/mazo260d/Desktop/Conni_BiA_PoL/embryo_FLIM_data/raw_data_embryo_stack_3tps_43pl_2ch/output_as_tif/embryo_43pl_2ch_3tps_t1_z23.tif'), WindowsPath('C:/Users/mazo260d/Desktop/Conni_BiA_PoL/embryo_FLIM_data/raw_data_embryo_stack_3tps_43pl_2ch/output_as_tif/embryo_43pl_2ch_3tps_t1_z24.tif'), WindowsPath('C:/Users/mazo260d/Desktop/Conni_BiA_PoL/embryo_FLIM_data/raw_data_embryo_stack_3tps_43pl_2ch/output_as_tif/embryo_43pl_2ch_3tps_t1_z25.tif'), WindowsPath('C:/Users/mazo260d/Desktop/Conni_BiA_PoL/embryo_FLIM_data/raw_data_embryo_stack_3tps_43pl_2ch/output_as_tif/embryo_43pl_2ch_3tps_t1_z26.tif'), WindowsPath('C:/Users/mazo260d/Desktop/Conni_BiA_PoL/embryo_FLIM_data/raw_data_embryo_stack_3tps_43pl_2ch/output_as_tif/embryo_43pl_2ch_3tps_t1_z27.tif'), WindowsPath('C:/Users/mazo260d/Desktop/Conni_BiA_PoL/embryo_FLIM_data/raw_data_embryo_stack_3tps_43pl_2ch/output_as_tif/embryo_43pl_2ch_3tps_t1_z28.tif'), WindowsPath('C:/Users/mazo260d/Desktop/Conni_BiA_PoL/embryo_FLIM_data/raw_data_embryo_stack_3tps_43pl_2ch/output_as_tif/embryo_43pl_2ch_3tps_t1_z29.tif'), WindowsPath('C:/Users/mazo260d/Desktop/Conni_BiA_PoL/embryo_FLIM_data/raw_data_embryo_stack_3tps_43pl_2ch/output_as_tif/embryo_43pl_2ch_3tps_t1_z30.tif'), WindowsPath('C:/Users/mazo260d/Desktop/Conni_BiA_PoL/embryo_FLIM_data/raw_data_embryo_stack_3tps_43pl_2ch/output_as_tif/embryo_43pl_2ch_3tps_t1_z31.tif'), WindowsPath('C:/Users/mazo260d/Desktop/Conni_BiA_PoL/embryo_FLIM_data/raw_data_embryo_stack_3tps_43pl_2ch/output_as_tif/embryo_43pl_2ch_3tps_t1_z32.tif'), WindowsPath('C:/Users/mazo260d/Desktop/Conni_BiA_PoL/embryo_FLIM_data/raw_data_embryo_stack_3tps_43pl_2ch/output_as_tif/embryo_43pl_2ch_3tps_t1_z33.tif'), WindowsPath('C:/Users/mazo260d/Desktop/Conni_BiA_PoL/embryo_FLIM_data/raw_data_embryo_stack_3tps_43pl_2ch/output_as_tif/embryo_43pl_2ch_3tps_t1_z34.tif'), WindowsPath('C:/Users/mazo260d/Desktop/Conni_BiA_PoL/embryo_FLIM_data/raw_data_embryo_stack_3tps_43pl_2ch/output_as_tif/embryo_43pl_2ch_3tps_t1_z35.tif'), WindowsPath('C:/Users/mazo260d/Desktop/Conni_BiA_PoL/embryo_FLIM_data/raw_data_embryo_stack_3tps_43pl_2ch/output_as_tif/embryo_43pl_2ch_3tps_t1_z36.tif'), WindowsPath('C:/Users/mazo260d/Desktop/Conni_BiA_PoL/embryo_FLIM_data/raw_data_embryo_stack_3tps_43pl_2ch/output_as_tif/embryo_43pl_2ch_3tps_t1_z37.tif'), WindowsPath('C:/Users/mazo260d/Desktop/Conni_BiA_PoL/embryo_FLIM_data/raw_data_embryo_stack_3tps_43pl_2ch/output_as_tif/embryo_43pl_2ch_3tps_t1_z38.tif'), WindowsPath('C:/Users/mazo260d/Desktop/Conni_BiA_PoL/embryo_FLIM_data/raw_data_embryo_stack_3tps_43pl_2ch/output_as_tif/embryo_43pl_2ch_3tps_t1_z39.tif'), WindowsPath('C:/Users/mazo260d/Desktop/Conni_BiA_PoL/embryo_FLIM_data/raw_data_embryo_stack_3tps_43pl_2ch/output_as_tif/embryo_43pl_2ch_3tps_t1_z40.tif'), WindowsPath('C:/Users/mazo260d/Desktop/Conni_BiA_PoL/embryo_FLIM_data/raw_data_embryo_stack_3tps_43pl_2ch/output_as_tif/embryo_43pl_2ch_3tps_t1_z41.tif'), WindowsPath('C:/Users/mazo260d/Desktop/Conni_BiA_PoL/embryo_FLIM_data/raw_data_embryo_stack_3tps_43pl_2ch/output_as_tif/embryo_43pl_2ch_3tps_t1_z42.tif'), WindowsPath('C:/Users/mazo260d/Desktop/Conni_BiA_PoL/embryo_FLIM_data/raw_data_embryo_stack_3tps_43pl_2ch/output_as_tif/embryo_43pl_2ch_3tps_t1_z43.tif')]\n",
      "[WindowsPath('C:/Users/mazo260d/Desktop/Conni_BiA_PoL/embryo_FLIM_data/raw_data_embryo_stack_3tps_43pl_2ch/output_as_tif/embryo_43pl_2ch_3tps_t2_z1.tif'), WindowsPath('C:/Users/mazo260d/Desktop/Conni_BiA_PoL/embryo_FLIM_data/raw_data_embryo_stack_3tps_43pl_2ch/output_as_tif/embryo_43pl_2ch_3tps_t2_z2.tif'), WindowsPath('C:/Users/mazo260d/Desktop/Conni_BiA_PoL/embryo_FLIM_data/raw_data_embryo_stack_3tps_43pl_2ch/output_as_tif/embryo_43pl_2ch_3tps_t2_z3.tif'), WindowsPath('C:/Users/mazo260d/Desktop/Conni_BiA_PoL/embryo_FLIM_data/raw_data_embryo_stack_3tps_43pl_2ch/output_as_tif/embryo_43pl_2ch_3tps_t2_z4.tif'), WindowsPath('C:/Users/mazo260d/Desktop/Conni_BiA_PoL/embryo_FLIM_data/raw_data_embryo_stack_3tps_43pl_2ch/output_as_tif/embryo_43pl_2ch_3tps_t2_z5.tif'), WindowsPath('C:/Users/mazo260d/Desktop/Conni_BiA_PoL/embryo_FLIM_data/raw_data_embryo_stack_3tps_43pl_2ch/output_as_tif/embryo_43pl_2ch_3tps_t2_z6.tif'), WindowsPath('C:/Users/mazo260d/Desktop/Conni_BiA_PoL/embryo_FLIM_data/raw_data_embryo_stack_3tps_43pl_2ch/output_as_tif/embryo_43pl_2ch_3tps_t2_z7.tif'), WindowsPath('C:/Users/mazo260d/Desktop/Conni_BiA_PoL/embryo_FLIM_data/raw_data_embryo_stack_3tps_43pl_2ch/output_as_tif/embryo_43pl_2ch_3tps_t2_z8.tif'), WindowsPath('C:/Users/mazo260d/Desktop/Conni_BiA_PoL/embryo_FLIM_data/raw_data_embryo_stack_3tps_43pl_2ch/output_as_tif/embryo_43pl_2ch_3tps_t2_z9.tif'), WindowsPath('C:/Users/mazo260d/Desktop/Conni_BiA_PoL/embryo_FLIM_data/raw_data_embryo_stack_3tps_43pl_2ch/output_as_tif/embryo_43pl_2ch_3tps_t2_z10.tif'), WindowsPath('C:/Users/mazo260d/Desktop/Conni_BiA_PoL/embryo_FLIM_data/raw_data_embryo_stack_3tps_43pl_2ch/output_as_tif/embryo_43pl_2ch_3tps_t2_z11.tif'), WindowsPath('C:/Users/mazo260d/Desktop/Conni_BiA_PoL/embryo_FLIM_data/raw_data_embryo_stack_3tps_43pl_2ch/output_as_tif/embryo_43pl_2ch_3tps_t2_z12.tif'), WindowsPath('C:/Users/mazo260d/Desktop/Conni_BiA_PoL/embryo_FLIM_data/raw_data_embryo_stack_3tps_43pl_2ch/output_as_tif/embryo_43pl_2ch_3tps_t2_z13.tif'), WindowsPath('C:/Users/mazo260d/Desktop/Conni_BiA_PoL/embryo_FLIM_data/raw_data_embryo_stack_3tps_43pl_2ch/output_as_tif/embryo_43pl_2ch_3tps_t2_z14.tif'), WindowsPath('C:/Users/mazo260d/Desktop/Conni_BiA_PoL/embryo_FLIM_data/raw_data_embryo_stack_3tps_43pl_2ch/output_as_tif/embryo_43pl_2ch_3tps_t2_z15.tif'), WindowsPath('C:/Users/mazo260d/Desktop/Conni_BiA_PoL/embryo_FLIM_data/raw_data_embryo_stack_3tps_43pl_2ch/output_as_tif/embryo_43pl_2ch_3tps_t2_z16.tif'), WindowsPath('C:/Users/mazo260d/Desktop/Conni_BiA_PoL/embryo_FLIM_data/raw_data_embryo_stack_3tps_43pl_2ch/output_as_tif/embryo_43pl_2ch_3tps_t2_z17.tif'), WindowsPath('C:/Users/mazo260d/Desktop/Conni_BiA_PoL/embryo_FLIM_data/raw_data_embryo_stack_3tps_43pl_2ch/output_as_tif/embryo_43pl_2ch_3tps_t2_z18.tif'), WindowsPath('C:/Users/mazo260d/Desktop/Conni_BiA_PoL/embryo_FLIM_data/raw_data_embryo_stack_3tps_43pl_2ch/output_as_tif/embryo_43pl_2ch_3tps_t2_z19.tif'), WindowsPath('C:/Users/mazo260d/Desktop/Conni_BiA_PoL/embryo_FLIM_data/raw_data_embryo_stack_3tps_43pl_2ch/output_as_tif/embryo_43pl_2ch_3tps_t2_z20.tif'), WindowsPath('C:/Users/mazo260d/Desktop/Conni_BiA_PoL/embryo_FLIM_data/raw_data_embryo_stack_3tps_43pl_2ch/output_as_tif/embryo_43pl_2ch_3tps_t2_z21.tif'), WindowsPath('C:/Users/mazo260d/Desktop/Conni_BiA_PoL/embryo_FLIM_data/raw_data_embryo_stack_3tps_43pl_2ch/output_as_tif/embryo_43pl_2ch_3tps_t2_z22.tif'), WindowsPath('C:/Users/mazo260d/Desktop/Conni_BiA_PoL/embryo_FLIM_data/raw_data_embryo_stack_3tps_43pl_2ch/output_as_tif/embryo_43pl_2ch_3tps_t2_z23.tif'), WindowsPath('C:/Users/mazo260d/Desktop/Conni_BiA_PoL/embryo_FLIM_data/raw_data_embryo_stack_3tps_43pl_2ch/output_as_tif/embryo_43pl_2ch_3tps_t2_z24.tif'), WindowsPath('C:/Users/mazo260d/Desktop/Conni_BiA_PoL/embryo_FLIM_data/raw_data_embryo_stack_3tps_43pl_2ch/output_as_tif/embryo_43pl_2ch_3tps_t2_z25.tif'), WindowsPath('C:/Users/mazo260d/Desktop/Conni_BiA_PoL/embryo_FLIM_data/raw_data_embryo_stack_3tps_43pl_2ch/output_as_tif/embryo_43pl_2ch_3tps_t2_z26.tif'), WindowsPath('C:/Users/mazo260d/Desktop/Conni_BiA_PoL/embryo_FLIM_data/raw_data_embryo_stack_3tps_43pl_2ch/output_as_tif/embryo_43pl_2ch_3tps_t2_z27.tif'), WindowsPath('C:/Users/mazo260d/Desktop/Conni_BiA_PoL/embryo_FLIM_data/raw_data_embryo_stack_3tps_43pl_2ch/output_as_tif/embryo_43pl_2ch_3tps_t2_z28.tif'), WindowsPath('C:/Users/mazo260d/Desktop/Conni_BiA_PoL/embryo_FLIM_data/raw_data_embryo_stack_3tps_43pl_2ch/output_as_tif/embryo_43pl_2ch_3tps_t2_z29.tif'), WindowsPath('C:/Users/mazo260d/Desktop/Conni_BiA_PoL/embryo_FLIM_data/raw_data_embryo_stack_3tps_43pl_2ch/output_as_tif/embryo_43pl_2ch_3tps_t2_z30.tif'), WindowsPath('C:/Users/mazo260d/Desktop/Conni_BiA_PoL/embryo_FLIM_data/raw_data_embryo_stack_3tps_43pl_2ch/output_as_tif/embryo_43pl_2ch_3tps_t2_z31.tif'), WindowsPath('C:/Users/mazo260d/Desktop/Conni_BiA_PoL/embryo_FLIM_data/raw_data_embryo_stack_3tps_43pl_2ch/output_as_tif/embryo_43pl_2ch_3tps_t2_z32.tif'), WindowsPath('C:/Users/mazo260d/Desktop/Conni_BiA_PoL/embryo_FLIM_data/raw_data_embryo_stack_3tps_43pl_2ch/output_as_tif/embryo_43pl_2ch_3tps_t2_z33.tif'), WindowsPath('C:/Users/mazo260d/Desktop/Conni_BiA_PoL/embryo_FLIM_data/raw_data_embryo_stack_3tps_43pl_2ch/output_as_tif/embryo_43pl_2ch_3tps_t2_z34.tif'), WindowsPath('C:/Users/mazo260d/Desktop/Conni_BiA_PoL/embryo_FLIM_data/raw_data_embryo_stack_3tps_43pl_2ch/output_as_tif/embryo_43pl_2ch_3tps_t2_z35.tif'), WindowsPath('C:/Users/mazo260d/Desktop/Conni_BiA_PoL/embryo_FLIM_data/raw_data_embryo_stack_3tps_43pl_2ch/output_as_tif/embryo_43pl_2ch_3tps_t2_z36.tif'), WindowsPath('C:/Users/mazo260d/Desktop/Conni_BiA_PoL/embryo_FLIM_data/raw_data_embryo_stack_3tps_43pl_2ch/output_as_tif/embryo_43pl_2ch_3tps_t2_z37.tif'), WindowsPath('C:/Users/mazo260d/Desktop/Conni_BiA_PoL/embryo_FLIM_data/raw_data_embryo_stack_3tps_43pl_2ch/output_as_tif/embryo_43pl_2ch_3tps_t2_z38.tif'), WindowsPath('C:/Users/mazo260d/Desktop/Conni_BiA_PoL/embryo_FLIM_data/raw_data_embryo_stack_3tps_43pl_2ch/output_as_tif/embryo_43pl_2ch_3tps_t2_z39.tif'), WindowsPath('C:/Users/mazo260d/Desktop/Conni_BiA_PoL/embryo_FLIM_data/raw_data_embryo_stack_3tps_43pl_2ch/output_as_tif/embryo_43pl_2ch_3tps_t2_z40.tif'), WindowsPath('C:/Users/mazo260d/Desktop/Conni_BiA_PoL/embryo_FLIM_data/raw_data_embryo_stack_3tps_43pl_2ch/output_as_tif/embryo_43pl_2ch_3tps_t2_z41.tif'), WindowsPath('C:/Users/mazo260d/Desktop/Conni_BiA_PoL/embryo_FLIM_data/raw_data_embryo_stack_3tps_43pl_2ch/output_as_tif/embryo_43pl_2ch_3tps_t2_z42.tif'), WindowsPath('C:/Users/mazo260d/Desktop/Conni_BiA_PoL/embryo_FLIM_data/raw_data_embryo_stack_3tps_43pl_2ch/output_as_tif/embryo_43pl_2ch_3tps_t2_z43.tif')]\n",
      "[WindowsPath('C:/Users/mazo260d/Desktop/Conni_BiA_PoL/embryo_FLIM_data/raw_data_embryo_stack_3tps_43pl_2ch/output_as_tif/embryo_43pl_2ch_3tps_t3_z1.tif'), WindowsPath('C:/Users/mazo260d/Desktop/Conni_BiA_PoL/embryo_FLIM_data/raw_data_embryo_stack_3tps_43pl_2ch/output_as_tif/embryo_43pl_2ch_3tps_t3_z2.tif'), WindowsPath('C:/Users/mazo260d/Desktop/Conni_BiA_PoL/embryo_FLIM_data/raw_data_embryo_stack_3tps_43pl_2ch/output_as_tif/embryo_43pl_2ch_3tps_t3_z3.tif'), WindowsPath('C:/Users/mazo260d/Desktop/Conni_BiA_PoL/embryo_FLIM_data/raw_data_embryo_stack_3tps_43pl_2ch/output_as_tif/embryo_43pl_2ch_3tps_t3_z4.tif'), WindowsPath('C:/Users/mazo260d/Desktop/Conni_BiA_PoL/embryo_FLIM_data/raw_data_embryo_stack_3tps_43pl_2ch/output_as_tif/embryo_43pl_2ch_3tps_t3_z5.tif'), WindowsPath('C:/Users/mazo260d/Desktop/Conni_BiA_PoL/embryo_FLIM_data/raw_data_embryo_stack_3tps_43pl_2ch/output_as_tif/embryo_43pl_2ch_3tps_t3_z6.tif'), WindowsPath('C:/Users/mazo260d/Desktop/Conni_BiA_PoL/embryo_FLIM_data/raw_data_embryo_stack_3tps_43pl_2ch/output_as_tif/embryo_43pl_2ch_3tps_t3_z7.tif'), WindowsPath('C:/Users/mazo260d/Desktop/Conni_BiA_PoL/embryo_FLIM_data/raw_data_embryo_stack_3tps_43pl_2ch/output_as_tif/embryo_43pl_2ch_3tps_t3_z8.tif'), WindowsPath('C:/Users/mazo260d/Desktop/Conni_BiA_PoL/embryo_FLIM_data/raw_data_embryo_stack_3tps_43pl_2ch/output_as_tif/embryo_43pl_2ch_3tps_t3_z9.tif'), WindowsPath('C:/Users/mazo260d/Desktop/Conni_BiA_PoL/embryo_FLIM_data/raw_data_embryo_stack_3tps_43pl_2ch/output_as_tif/embryo_43pl_2ch_3tps_t3_z10.tif'), WindowsPath('C:/Users/mazo260d/Desktop/Conni_BiA_PoL/embryo_FLIM_data/raw_data_embryo_stack_3tps_43pl_2ch/output_as_tif/embryo_43pl_2ch_3tps_t3_z11.tif'), WindowsPath('C:/Users/mazo260d/Desktop/Conni_BiA_PoL/embryo_FLIM_data/raw_data_embryo_stack_3tps_43pl_2ch/output_as_tif/embryo_43pl_2ch_3tps_t3_z12.tif'), WindowsPath('C:/Users/mazo260d/Desktop/Conni_BiA_PoL/embryo_FLIM_data/raw_data_embryo_stack_3tps_43pl_2ch/output_as_tif/embryo_43pl_2ch_3tps_t3_z13.tif'), WindowsPath('C:/Users/mazo260d/Desktop/Conni_BiA_PoL/embryo_FLIM_data/raw_data_embryo_stack_3tps_43pl_2ch/output_as_tif/embryo_43pl_2ch_3tps_t3_z14.tif'), WindowsPath('C:/Users/mazo260d/Desktop/Conni_BiA_PoL/embryo_FLIM_data/raw_data_embryo_stack_3tps_43pl_2ch/output_as_tif/embryo_43pl_2ch_3tps_t3_z15.tif'), WindowsPath('C:/Users/mazo260d/Desktop/Conni_BiA_PoL/embryo_FLIM_data/raw_data_embryo_stack_3tps_43pl_2ch/output_as_tif/embryo_43pl_2ch_3tps_t3_z16.tif'), WindowsPath('C:/Users/mazo260d/Desktop/Conni_BiA_PoL/embryo_FLIM_data/raw_data_embryo_stack_3tps_43pl_2ch/output_as_tif/embryo_43pl_2ch_3tps_t3_z17.tif'), WindowsPath('C:/Users/mazo260d/Desktop/Conni_BiA_PoL/embryo_FLIM_data/raw_data_embryo_stack_3tps_43pl_2ch/output_as_tif/embryo_43pl_2ch_3tps_t3_z18.tif'), WindowsPath('C:/Users/mazo260d/Desktop/Conni_BiA_PoL/embryo_FLIM_data/raw_data_embryo_stack_3tps_43pl_2ch/output_as_tif/embryo_43pl_2ch_3tps_t3_z19.tif'), WindowsPath('C:/Users/mazo260d/Desktop/Conni_BiA_PoL/embryo_FLIM_data/raw_data_embryo_stack_3tps_43pl_2ch/output_as_tif/embryo_43pl_2ch_3tps_t3_z20.tif'), WindowsPath('C:/Users/mazo260d/Desktop/Conni_BiA_PoL/embryo_FLIM_data/raw_data_embryo_stack_3tps_43pl_2ch/output_as_tif/embryo_43pl_2ch_3tps_t3_z21.tif'), WindowsPath('C:/Users/mazo260d/Desktop/Conni_BiA_PoL/embryo_FLIM_data/raw_data_embryo_stack_3tps_43pl_2ch/output_as_tif/embryo_43pl_2ch_3tps_t3_z22.tif'), WindowsPath('C:/Users/mazo260d/Desktop/Conni_BiA_PoL/embryo_FLIM_data/raw_data_embryo_stack_3tps_43pl_2ch/output_as_tif/embryo_43pl_2ch_3tps_t3_z23.tif'), WindowsPath('C:/Users/mazo260d/Desktop/Conni_BiA_PoL/embryo_FLIM_data/raw_data_embryo_stack_3tps_43pl_2ch/output_as_tif/embryo_43pl_2ch_3tps_t3_z24.tif'), WindowsPath('C:/Users/mazo260d/Desktop/Conni_BiA_PoL/embryo_FLIM_data/raw_data_embryo_stack_3tps_43pl_2ch/output_as_tif/embryo_43pl_2ch_3tps_t3_z25.tif'), WindowsPath('C:/Users/mazo260d/Desktop/Conni_BiA_PoL/embryo_FLIM_data/raw_data_embryo_stack_3tps_43pl_2ch/output_as_tif/embryo_43pl_2ch_3tps_t3_z26.tif'), WindowsPath('C:/Users/mazo260d/Desktop/Conni_BiA_PoL/embryo_FLIM_data/raw_data_embryo_stack_3tps_43pl_2ch/output_as_tif/embryo_43pl_2ch_3tps_t3_z27.tif'), WindowsPath('C:/Users/mazo260d/Desktop/Conni_BiA_PoL/embryo_FLIM_data/raw_data_embryo_stack_3tps_43pl_2ch/output_as_tif/embryo_43pl_2ch_3tps_t3_z28.tif'), WindowsPath('C:/Users/mazo260d/Desktop/Conni_BiA_PoL/embryo_FLIM_data/raw_data_embryo_stack_3tps_43pl_2ch/output_as_tif/embryo_43pl_2ch_3tps_t3_z29.tif'), WindowsPath('C:/Users/mazo260d/Desktop/Conni_BiA_PoL/embryo_FLIM_data/raw_data_embryo_stack_3tps_43pl_2ch/output_as_tif/embryo_43pl_2ch_3tps_t3_z30.tif'), WindowsPath('C:/Users/mazo260d/Desktop/Conni_BiA_PoL/embryo_FLIM_data/raw_data_embryo_stack_3tps_43pl_2ch/output_as_tif/embryo_43pl_2ch_3tps_t3_z31.tif'), WindowsPath('C:/Users/mazo260d/Desktop/Conni_BiA_PoL/embryo_FLIM_data/raw_data_embryo_stack_3tps_43pl_2ch/output_as_tif/embryo_43pl_2ch_3tps_t3_z32.tif'), WindowsPath('C:/Users/mazo260d/Desktop/Conni_BiA_PoL/embryo_FLIM_data/raw_data_embryo_stack_3tps_43pl_2ch/output_as_tif/embryo_43pl_2ch_3tps_t3_z33.tif'), WindowsPath('C:/Users/mazo260d/Desktop/Conni_BiA_PoL/embryo_FLIM_data/raw_data_embryo_stack_3tps_43pl_2ch/output_as_tif/embryo_43pl_2ch_3tps_t3_z34.tif'), WindowsPath('C:/Users/mazo260d/Desktop/Conni_BiA_PoL/embryo_FLIM_data/raw_data_embryo_stack_3tps_43pl_2ch/output_as_tif/embryo_43pl_2ch_3tps_t3_z35.tif'), WindowsPath('C:/Users/mazo260d/Desktop/Conni_BiA_PoL/embryo_FLIM_data/raw_data_embryo_stack_3tps_43pl_2ch/output_as_tif/embryo_43pl_2ch_3tps_t3_z36.tif'), WindowsPath('C:/Users/mazo260d/Desktop/Conni_BiA_PoL/embryo_FLIM_data/raw_data_embryo_stack_3tps_43pl_2ch/output_as_tif/embryo_43pl_2ch_3tps_t3_z37.tif'), WindowsPath('C:/Users/mazo260d/Desktop/Conni_BiA_PoL/embryo_FLIM_data/raw_data_embryo_stack_3tps_43pl_2ch/output_as_tif/embryo_43pl_2ch_3tps_t3_z38.tif'), WindowsPath('C:/Users/mazo260d/Desktop/Conni_BiA_PoL/embryo_FLIM_data/raw_data_embryo_stack_3tps_43pl_2ch/output_as_tif/embryo_43pl_2ch_3tps_t3_z39.tif'), WindowsPath('C:/Users/mazo260d/Desktop/Conni_BiA_PoL/embryo_FLIM_data/raw_data_embryo_stack_3tps_43pl_2ch/output_as_tif/embryo_43pl_2ch_3tps_t3_z40.tif'), WindowsPath('C:/Users/mazo260d/Desktop/Conni_BiA_PoL/embryo_FLIM_data/raw_data_embryo_stack_3tps_43pl_2ch/output_as_tif/embryo_43pl_2ch_3tps_t3_z41.tif'), WindowsPath('C:/Users/mazo260d/Desktop/Conni_BiA_PoL/embryo_FLIM_data/raw_data_embryo_stack_3tps_43pl_2ch/output_as_tif/embryo_43pl_2ch_3tps_t3_z42.tif'), WindowsPath('C:/Users/mazo260d/Desktop/Conni_BiA_PoL/embryo_FLIM_data/raw_data_embryo_stack_3tps_43pl_2ch/output_as_tif/embryo_43pl_2ch_3tps_t3_z43.tif')]\n"
     ]
    }
   ],
   "source": [
    "for z_path_list in t_path_list:\n",
    "    print(z_path_list)"
   ]
  },
  {
   "cell_type": "code",
   "execution_count": 13,
   "metadata": {},
   "outputs": [
    {
     "name": "stdout",
     "output_type": "stream",
     "text": [
      "stack shape and chunks =  (3, 2, 138, 43, 256, 256) \n",
      " ((1, 1, 1), (2,), (138,), (43,), (256,), (256,))\n"
     ]
    }
   ],
   "source": [
    "read_tif_data_3D_delayed = dask.delayed(read_tif_data_3D, pure=True)\n",
    "\n",
    "lazy_images = [read_tif_data_3D_delayed(z_path_list, image_slice_max_shape=slice_max_shape) for z_path_list in t_path_list]\n",
    "\n",
    "arrays = [da.from_delayed(lazy_image,           # Construct a small Dask array\n",
    "                          dtype=image_2D.dtype,   # for every lazy value\n",
    "                          shape=image_stack_shape)\n",
    "          for lazy_image in lazy_images]\n",
    "\n",
    "stack = da.stack(arrays, axis=0)                # Stack all small Dask arrays into one\n",
    "print('stack shape and chunks = ', stack.shape, '\\n', stack.chunks)"
   ]
  },
  {
   "cell_type": "code",
   "execution_count": 52,
   "metadata": {},
   "outputs": [
    {
     "data": {
      "text/plain": [
       "((1, 1, 1), (2,), (138,), (43,), (256,), (256,))"
      ]
     },
     "execution_count": 52,
     "metadata": {},
     "output_type": "execute_result"
    }
   ],
   "source": [
    "stack.chunks"
   ]
  },
  {
   "cell_type": "code",
   "execution_count": 97,
   "metadata": {},
   "outputs": [
    {
     "data": {
      "text/plain": [
       "1555.562496"
      ]
     },
     "execution_count": 97,
     "metadata": {},
     "output_type": "execute_result"
    }
   ],
   "source": [
    "chunk_size_MBytes = np.cumprod(stack.chunksize)[-1] * stack.itemsize / 1e6 #MB per chunk\n",
    "chunk_size_MBytes"
   ]
  },
  {
   "cell_type": "code",
   "execution_count": 98,
   "metadata": {},
   "outputs": [],
   "source": [
    "if chunk_size_MBytes > 1e3: # if larger than 1GB (1000MB)\n",
    "    stack = stack.rechunk({-3: 'auto'}, block_size_limit=1e9)"
   ]
  },
  {
   "cell_type": "code",
   "execution_count": 99,
   "metadata": {},
   "outputs": [
    {
     "name": "stderr",
     "output_type": "stream",
     "text": [
      "WARNING: QWindowsWindow::setGeometry: Unable to set geometry 3258x2028-12-24 (frame: 3290x2116-28-96) on QWidgetWindow/\"_QtMainWindowClassWindow\" on \"\\\\.\\DISPLAY1\". Resulting geometry: 5435x2108-7+3 (frame: 5467x2196-23-69) margins: 16, 72, 16, 16 minimum size: 374x554 MINMAXINFO maxSize=0,0 maxpos=0,0 mintrack=1154,1750 maxtrack=0,0)\n"
     ]
    }
   ],
   "source": [
    "viewer = napari.Viewer()"
   ]
  },
  {
   "cell_type": "code",
   "execution_count": 100,
   "metadata": {},
   "outputs": [
    {
     "data": {
      "text/plain": [
       "[<Image layer 'Image' at 0x17a4dcb8520>,\n",
       " <Image layer 'Image [1]' at 0x17a3da0be50>]"
      ]
     },
     "execution_count": 100,
     "metadata": {},
     "output_type": "execute_result"
    }
   ],
   "source": [
    "viewer.add_image(stack, channel_axis=1)"
   ]
  },
  {
   "cell_type": "code",
   "execution_count": null,
   "metadata": {},
   "outputs": [],
   "source": []
  }
 ],
 "metadata": {
  "kernelspec": {
   "display_name": "napari-flim-dev",
   "language": "python",
   "name": "python3"
  },
  "language_info": {
   "codemirror_mode": {
    "name": "ipython",
    "version": 3
   },
   "file_extension": ".py",
   "mimetype": "text/x-python",
   "name": "python",
   "nbconvert_exporter": "python",
   "pygments_lexer": "ipython3",
   "version": "3.9.15"
  },
  "orig_nbformat": 4
 },
 "nbformat": 4,
 "nbformat_minor": 2
}
