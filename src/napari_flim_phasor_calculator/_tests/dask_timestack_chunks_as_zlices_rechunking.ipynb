{
 "cells": [
  {
   "cell_type": "code",
   "execution_count": 1,
   "metadata": {},
   "outputs": [],
   "source": [
    "import skimage.io\n",
    "import dask.array as da\n",
    "import dask\n",
    "from pathlib import Path\n",
    "import napari\n",
    "from natsort import natsorted\n",
    "import numpy as np\n",
    "from napari_flim_phasor_calculator._reader import get_current_tz"
   ]
  },
  {
   "attachments": {},
   "cell_type": "markdown",
   "metadata": {},
   "source": [
    "Define read 2d and 3d functions"
   ]
  },
  {
   "cell_type": "code",
   "execution_count": 2,
   "metadata": {},
   "outputs": [],
   "source": [
    "\n",
    "# folder_path = r\"C:\\Users\\mazo260d\\Desktop\\Conni_BiA_PoL\\embryo_FLIM_data\\raw_data_embryo_stack_3tps_43pl_2ch\\output_as_tif\"\n",
    "# folder_path = r\"C:\\Users\\mazo260d\\Desktop\\Conni_BiA_PoL\\stack_smaller_as_tif\"\n",
    "folder_path = r\"C:\\Users\\mazo260d\\Desktop\\Conni_BiA_PoL\\stack_as_tif\"\n",
    "\n",
    "folder_path = Path(folder_path)\n",
    "\n",
    "def read_tif_data_2D(path):\n",
    "    from skimage.io import imread\n",
    "    image = imread(path)\n",
    "    return image\n",
    "\n",
    "def read_tif_data_3D(file_paths, image_slice_max_shape):\n",
    "    file_paths = natsorted(file_paths)\n",
    "    z_list = []\n",
    "    for file_path in file_paths:\n",
    "        if file_path.suffix == '.tif':\n",
    "            current_t, current_z = get_current_tz(file_path)\n",
    "            data = read_tif_data_2D(file_path)\n",
    "            if current_z is not None:\n",
    "                image = np.zeros(image_slice_max_shape, dtype=data.dtype)\n",
    "                image[:data.shape[0], :data.shape[1], :data.shape[2], :data.shape[3]] = data\n",
    "                z_list.append(image)\n",
    "    image_3D = np.stack(z_list)\n",
    "    # move channel and microtime to the beginning (putting z behind them): from (z, ch, mt, y, x) to (ch, mt, z, y, x)\n",
    "    image_3D = np.moveaxis(image_3D, [-4, -3], [0, 1])\n",
    "    return image_3D"
   ]
  },
  {
   "attachments": {},
   "cell_type": "markdown",
   "metadata": {},
   "source": [
    "Get max slice shape"
   ]
  },
  {
   "cell_type": "code",
   "execution_count": 3,
   "metadata": {},
   "outputs": [
    {
     "name": "stdout",
     "output_type": "stream",
     "text": [
      "last_slice_shape =  (2, 266, 512, 512) image_dtype =  uint16\n",
      "max_slice_shape =  (2, 276, 512, 512)\n"
     ]
    }
   ],
   "source": [
    "# Read all slices to get slice max shape and dtype (not ideal but for now it is OK)\n",
    "slice_shape_list = []\n",
    "for file_path in folder_path.iterdir():\n",
    "    if file_path.suffix == '.tif':\n",
    "        image_2D = read_tif_data_2D(file_path)\n",
    "        slice_shape_list.append(image_2D.shape)\n",
    "slice_max_shape = max(slice_shape_list)\n",
    "print('last_slice_shape = ', image_2D.shape,'image_dtype = ', image_2D.dtype)\n",
    "print('max_slice_shape = ', slice_max_shape)"
   ]
  },
  {
   "attachments": {},
   "cell_type": "markdown",
   "metadata": {},
   "source": [
    "Get max z slices and max t timepoints from filepaths"
   ]
  },
  {
   "cell_type": "code",
   "execution_count": 4,
   "metadata": {},
   "outputs": [
    {
     "name": "stdout",
     "output_type": "stream",
     "text": [
      "max_z slices =  65\n",
      "max_time =  1\n"
     ]
    }
   ],
   "source": [
    "file_paths = [file_path for file_path in folder_path.iterdir() if file_path.suffix == '.tif']\n",
    "\n",
    "# Get max z slices by reading all file names\n",
    "def get_max_zslices(file_paths):\n",
    "    max_z = max([get_current_tz(file_path) for file_path in file_paths if file_path.suffix == '.tif'])[1]\n",
    "    if max_z is None:\n",
    "        return 1\n",
    "    return max_z\n",
    "def get_max_time(file_paths):\n",
    "    max_time = max([get_current_tz(file_path) for file_path in file_paths if file_path.suffix == '.tif'])[0]\n",
    "    if max_time is None:\n",
    "        return 1\n",
    "    return max_time\n",
    "\n",
    "max_z = get_max_zslices(file_paths)\n",
    "print('max_z slices = ', max_z)\n",
    "max_t = get_max_time(file_paths)\n",
    "print('max_time = ', max_t)"
   ]
  },
  {
   "attachments": {},
   "cell_type": "markdown",
   "metadata": {},
   "source": [
    "Get stack max shape"
   ]
  },
  {
   "cell_type": "code",
   "execution_count": 5,
   "metadata": {},
   "outputs": [
    {
     "data": {
      "text/plain": [
       "(2, 276, 65, 512, 512)"
      ]
     },
     "execution_count": 5,
     "metadata": {},
     "output_type": "execute_result"
    }
   ],
   "source": [
    "image_stack_shape = (*slice_max_shape[:-2], max_z, *slice_max_shape[-2:])\n",
    "image_stack_shape\n"
   ]
  },
  {
   "attachments": {},
   "cell_type": "markdown",
   "metadata": {},
   "source": [
    "Make dask array"
   ]
  },
  {
   "cell_type": "code",
   "execution_count": 6,
   "metadata": {},
   "outputs": [
    {
     "name": "stdout",
     "output_type": "stream",
     "text": [
      "None 1\n",
      "None 2\n",
      "None 3\n",
      "None 4\n",
      "None 5\n",
      "None 6\n",
      "None 7\n",
      "None 8\n",
      "None 9\n",
      "None 10\n",
      "None 11\n",
      "None 12\n",
      "None 13\n",
      "None 14\n",
      "None 15\n",
      "None 16\n",
      "None 17\n",
      "None 18\n",
      "None 19\n",
      "None 20\n",
      "None 21\n",
      "None 22\n",
      "None 23\n",
      "None 24\n",
      "None 25\n",
      "None 26\n",
      "None 27\n",
      "None 28\n",
      "None 29\n",
      "None 30\n",
      "None 31\n",
      "None 32\n",
      "None 33\n",
      "None 34\n",
      "None 35\n",
      "None 36\n",
      "None 37\n",
      "None 38\n",
      "None 39\n",
      "None 40\n",
      "None 41\n",
      "None 42\n",
      "None 43\n",
      "None 44\n",
      "None 45\n",
      "None 46\n",
      "None 47\n",
      "None 48\n",
      "None 49\n",
      "None 50\n",
      "None 51\n",
      "None 52\n",
      "None 53\n",
      "None 54\n",
      "None 55\n",
      "None 56\n",
      "None 57\n",
      "None 58\n",
      "None 59\n",
      "None 60\n",
      "None 61\n",
      "None 62\n",
      "None 63\n",
      "None 64\n",
      "None 65\n"
     ]
    }
   ],
   "source": [
    "t_path_list = []\n",
    "z_path_list = []\n",
    "file_paths = natsorted(file_paths)\n",
    "previous_t = 1\n",
    "for file_path in file_paths:\n",
    "    if file_path.suffix == '.tif':\n",
    "        current_t, current_z = get_current_tz(file_path)\n",
    "        print(current_t, current_z)\n",
    "        if current_t is not None:\n",
    "            if current_t > previous_t:\n",
    "                t_path_list.append(z_path_list)\n",
    "                z_path_list = []\n",
    "                previous_t = current_t\n",
    "            z_path_list.append(file_path)\n",
    "\n",
    "# If no timepoints, z+path_list is file_paths\n",
    "if current_t is None:\n",
    "    z_path_list = file_paths\n",
    "\n",
    "# Append last timepoint\n",
    "t_path_list.append(z_path_list)\n"
   ]
  },
  {
   "cell_type": "code",
   "execution_count": 7,
   "metadata": {},
   "outputs": [
    {
     "data": {
      "text/plain": [
       "[WindowsPath('C:/Users/mazo260d/Desktop/Conni_BiA_PoL/stack_as_tif/FLIM_stack_z1.tif'),\n",
       " WindowsPath('C:/Users/mazo260d/Desktop/Conni_BiA_PoL/stack_as_tif/FLIM_stack_z2.tif'),\n",
       " WindowsPath('C:/Users/mazo260d/Desktop/Conni_BiA_PoL/stack_as_tif/FLIM_stack_z3.tif'),\n",
       " WindowsPath('C:/Users/mazo260d/Desktop/Conni_BiA_PoL/stack_as_tif/FLIM_stack_z4.tif'),\n",
       " WindowsPath('C:/Users/mazo260d/Desktop/Conni_BiA_PoL/stack_as_tif/FLIM_stack_z5.tif'),\n",
       " WindowsPath('C:/Users/mazo260d/Desktop/Conni_BiA_PoL/stack_as_tif/FLIM_stack_z6.tif'),\n",
       " WindowsPath('C:/Users/mazo260d/Desktop/Conni_BiA_PoL/stack_as_tif/FLIM_stack_z7.tif'),\n",
       " WindowsPath('C:/Users/mazo260d/Desktop/Conni_BiA_PoL/stack_as_tif/FLIM_stack_z8.tif'),\n",
       " WindowsPath('C:/Users/mazo260d/Desktop/Conni_BiA_PoL/stack_as_tif/FLIM_stack_z9.tif'),\n",
       " WindowsPath('C:/Users/mazo260d/Desktop/Conni_BiA_PoL/stack_as_tif/FLIM_stack_z10.tif'),\n",
       " WindowsPath('C:/Users/mazo260d/Desktop/Conni_BiA_PoL/stack_as_tif/FLIM_stack_z11.tif'),\n",
       " WindowsPath('C:/Users/mazo260d/Desktop/Conni_BiA_PoL/stack_as_tif/FLIM_stack_z12.tif'),\n",
       " WindowsPath('C:/Users/mazo260d/Desktop/Conni_BiA_PoL/stack_as_tif/FLIM_stack_z13.tif'),\n",
       " WindowsPath('C:/Users/mazo260d/Desktop/Conni_BiA_PoL/stack_as_tif/FLIM_stack_z14.tif'),\n",
       " WindowsPath('C:/Users/mazo260d/Desktop/Conni_BiA_PoL/stack_as_tif/FLIM_stack_z15.tif'),\n",
       " WindowsPath('C:/Users/mazo260d/Desktop/Conni_BiA_PoL/stack_as_tif/FLIM_stack_z16.tif'),\n",
       " WindowsPath('C:/Users/mazo260d/Desktop/Conni_BiA_PoL/stack_as_tif/FLIM_stack_z17.tif'),\n",
       " WindowsPath('C:/Users/mazo260d/Desktop/Conni_BiA_PoL/stack_as_tif/FLIM_stack_z18.tif'),\n",
       " WindowsPath('C:/Users/mazo260d/Desktop/Conni_BiA_PoL/stack_as_tif/FLIM_stack_z19.tif'),\n",
       " WindowsPath('C:/Users/mazo260d/Desktop/Conni_BiA_PoL/stack_as_tif/FLIM_stack_z20.tif'),\n",
       " WindowsPath('C:/Users/mazo260d/Desktop/Conni_BiA_PoL/stack_as_tif/FLIM_stack_z21.tif'),\n",
       " WindowsPath('C:/Users/mazo260d/Desktop/Conni_BiA_PoL/stack_as_tif/FLIM_stack_z22.tif'),\n",
       " WindowsPath('C:/Users/mazo260d/Desktop/Conni_BiA_PoL/stack_as_tif/FLIM_stack_z23.tif'),\n",
       " WindowsPath('C:/Users/mazo260d/Desktop/Conni_BiA_PoL/stack_as_tif/FLIM_stack_z24.tif'),\n",
       " WindowsPath('C:/Users/mazo260d/Desktop/Conni_BiA_PoL/stack_as_tif/FLIM_stack_z25.tif'),\n",
       " WindowsPath('C:/Users/mazo260d/Desktop/Conni_BiA_PoL/stack_as_tif/FLIM_stack_z26.tif'),\n",
       " WindowsPath('C:/Users/mazo260d/Desktop/Conni_BiA_PoL/stack_as_tif/FLIM_stack_z27.tif'),\n",
       " WindowsPath('C:/Users/mazo260d/Desktop/Conni_BiA_PoL/stack_as_tif/FLIM_stack_z28.tif'),\n",
       " WindowsPath('C:/Users/mazo260d/Desktop/Conni_BiA_PoL/stack_as_tif/FLIM_stack_z29.tif'),\n",
       " WindowsPath('C:/Users/mazo260d/Desktop/Conni_BiA_PoL/stack_as_tif/FLIM_stack_z30.tif'),\n",
       " WindowsPath('C:/Users/mazo260d/Desktop/Conni_BiA_PoL/stack_as_tif/FLIM_stack_z31.tif'),\n",
       " WindowsPath('C:/Users/mazo260d/Desktop/Conni_BiA_PoL/stack_as_tif/FLIM_stack_z32.tif'),\n",
       " WindowsPath('C:/Users/mazo260d/Desktop/Conni_BiA_PoL/stack_as_tif/FLIM_stack_z33.tif'),\n",
       " WindowsPath('C:/Users/mazo260d/Desktop/Conni_BiA_PoL/stack_as_tif/FLIM_stack_z34.tif'),\n",
       " WindowsPath('C:/Users/mazo260d/Desktop/Conni_BiA_PoL/stack_as_tif/FLIM_stack_z35.tif'),\n",
       " WindowsPath('C:/Users/mazo260d/Desktop/Conni_BiA_PoL/stack_as_tif/FLIM_stack_z36.tif'),\n",
       " WindowsPath('C:/Users/mazo260d/Desktop/Conni_BiA_PoL/stack_as_tif/FLIM_stack_z37.tif'),\n",
       " WindowsPath('C:/Users/mazo260d/Desktop/Conni_BiA_PoL/stack_as_tif/FLIM_stack_z38.tif'),\n",
       " WindowsPath('C:/Users/mazo260d/Desktop/Conni_BiA_PoL/stack_as_tif/FLIM_stack_z39.tif'),\n",
       " WindowsPath('C:/Users/mazo260d/Desktop/Conni_BiA_PoL/stack_as_tif/FLIM_stack_z40.tif'),\n",
       " WindowsPath('C:/Users/mazo260d/Desktop/Conni_BiA_PoL/stack_as_tif/FLIM_stack_z41.tif'),\n",
       " WindowsPath('C:/Users/mazo260d/Desktop/Conni_BiA_PoL/stack_as_tif/FLIM_stack_z42.tif'),\n",
       " WindowsPath('C:/Users/mazo260d/Desktop/Conni_BiA_PoL/stack_as_tif/FLIM_stack_z43.tif'),\n",
       " WindowsPath('C:/Users/mazo260d/Desktop/Conni_BiA_PoL/stack_as_tif/FLIM_stack_z44.tif'),\n",
       " WindowsPath('C:/Users/mazo260d/Desktop/Conni_BiA_PoL/stack_as_tif/FLIM_stack_z45.tif'),\n",
       " WindowsPath('C:/Users/mazo260d/Desktop/Conni_BiA_PoL/stack_as_tif/FLIM_stack_z46.tif'),\n",
       " WindowsPath('C:/Users/mazo260d/Desktop/Conni_BiA_PoL/stack_as_tif/FLIM_stack_z47.tif'),\n",
       " WindowsPath('C:/Users/mazo260d/Desktop/Conni_BiA_PoL/stack_as_tif/FLIM_stack_z48.tif'),\n",
       " WindowsPath('C:/Users/mazo260d/Desktop/Conni_BiA_PoL/stack_as_tif/FLIM_stack_z49.tif'),\n",
       " WindowsPath('C:/Users/mazo260d/Desktop/Conni_BiA_PoL/stack_as_tif/FLIM_stack_z50.tif'),\n",
       " WindowsPath('C:/Users/mazo260d/Desktop/Conni_BiA_PoL/stack_as_tif/FLIM_stack_z51.tif'),\n",
       " WindowsPath('C:/Users/mazo260d/Desktop/Conni_BiA_PoL/stack_as_tif/FLIM_stack_z52.tif'),\n",
       " WindowsPath('C:/Users/mazo260d/Desktop/Conni_BiA_PoL/stack_as_tif/FLIM_stack_z53.tif'),\n",
       " WindowsPath('C:/Users/mazo260d/Desktop/Conni_BiA_PoL/stack_as_tif/FLIM_stack_z54.tif'),\n",
       " WindowsPath('C:/Users/mazo260d/Desktop/Conni_BiA_PoL/stack_as_tif/FLIM_stack_z55.tif'),\n",
       " WindowsPath('C:/Users/mazo260d/Desktop/Conni_BiA_PoL/stack_as_tif/FLIM_stack_z56.tif'),\n",
       " WindowsPath('C:/Users/mazo260d/Desktop/Conni_BiA_PoL/stack_as_tif/FLIM_stack_z57.tif'),\n",
       " WindowsPath('C:/Users/mazo260d/Desktop/Conni_BiA_PoL/stack_as_tif/FLIM_stack_z58.tif'),\n",
       " WindowsPath('C:/Users/mazo260d/Desktop/Conni_BiA_PoL/stack_as_tif/FLIM_stack_z59.tif'),\n",
       " WindowsPath('C:/Users/mazo260d/Desktop/Conni_BiA_PoL/stack_as_tif/FLIM_stack_z60.tif'),\n",
       " WindowsPath('C:/Users/mazo260d/Desktop/Conni_BiA_PoL/stack_as_tif/FLIM_stack_z61.tif'),\n",
       " WindowsPath('C:/Users/mazo260d/Desktop/Conni_BiA_PoL/stack_as_tif/FLIM_stack_z62.tif'),\n",
       " WindowsPath('C:/Users/mazo260d/Desktop/Conni_BiA_PoL/stack_as_tif/FLIM_stack_z63.tif'),\n",
       " WindowsPath('C:/Users/mazo260d/Desktop/Conni_BiA_PoL/stack_as_tif/FLIM_stack_z64.tif'),\n",
       " WindowsPath('C:/Users/mazo260d/Desktop/Conni_BiA_PoL/stack_as_tif/FLIM_stack_z65.tif')]"
      ]
     },
     "execution_count": 7,
     "metadata": {},
     "output_type": "execute_result"
    }
   ],
   "source": [
    "z_path_list"
   ]
  },
  {
   "cell_type": "code",
   "execution_count": 8,
   "metadata": {},
   "outputs": [
    {
     "name": "stdout",
     "output_type": "stream",
     "text": [
      "[WindowsPath('C:/Users/mazo260d/Desktop/Conni_BiA_PoL/stack_as_tif/FLIM_stack_z1.tif'), WindowsPath('C:/Users/mazo260d/Desktop/Conni_BiA_PoL/stack_as_tif/FLIM_stack_z2.tif'), WindowsPath('C:/Users/mazo260d/Desktop/Conni_BiA_PoL/stack_as_tif/FLIM_stack_z3.tif'), WindowsPath('C:/Users/mazo260d/Desktop/Conni_BiA_PoL/stack_as_tif/FLIM_stack_z4.tif'), WindowsPath('C:/Users/mazo260d/Desktop/Conni_BiA_PoL/stack_as_tif/FLIM_stack_z5.tif'), WindowsPath('C:/Users/mazo260d/Desktop/Conni_BiA_PoL/stack_as_tif/FLIM_stack_z6.tif'), WindowsPath('C:/Users/mazo260d/Desktop/Conni_BiA_PoL/stack_as_tif/FLIM_stack_z7.tif'), WindowsPath('C:/Users/mazo260d/Desktop/Conni_BiA_PoL/stack_as_tif/FLIM_stack_z8.tif'), WindowsPath('C:/Users/mazo260d/Desktop/Conni_BiA_PoL/stack_as_tif/FLIM_stack_z9.tif'), WindowsPath('C:/Users/mazo260d/Desktop/Conni_BiA_PoL/stack_as_tif/FLIM_stack_z10.tif'), WindowsPath('C:/Users/mazo260d/Desktop/Conni_BiA_PoL/stack_as_tif/FLIM_stack_z11.tif'), WindowsPath('C:/Users/mazo260d/Desktop/Conni_BiA_PoL/stack_as_tif/FLIM_stack_z12.tif'), WindowsPath('C:/Users/mazo260d/Desktop/Conni_BiA_PoL/stack_as_tif/FLIM_stack_z13.tif'), WindowsPath('C:/Users/mazo260d/Desktop/Conni_BiA_PoL/stack_as_tif/FLIM_stack_z14.tif'), WindowsPath('C:/Users/mazo260d/Desktop/Conni_BiA_PoL/stack_as_tif/FLIM_stack_z15.tif'), WindowsPath('C:/Users/mazo260d/Desktop/Conni_BiA_PoL/stack_as_tif/FLIM_stack_z16.tif'), WindowsPath('C:/Users/mazo260d/Desktop/Conni_BiA_PoL/stack_as_tif/FLIM_stack_z17.tif'), WindowsPath('C:/Users/mazo260d/Desktop/Conni_BiA_PoL/stack_as_tif/FLIM_stack_z18.tif'), WindowsPath('C:/Users/mazo260d/Desktop/Conni_BiA_PoL/stack_as_tif/FLIM_stack_z19.tif'), WindowsPath('C:/Users/mazo260d/Desktop/Conni_BiA_PoL/stack_as_tif/FLIM_stack_z20.tif'), WindowsPath('C:/Users/mazo260d/Desktop/Conni_BiA_PoL/stack_as_tif/FLIM_stack_z21.tif'), WindowsPath('C:/Users/mazo260d/Desktop/Conni_BiA_PoL/stack_as_tif/FLIM_stack_z22.tif'), WindowsPath('C:/Users/mazo260d/Desktop/Conni_BiA_PoL/stack_as_tif/FLIM_stack_z23.tif'), WindowsPath('C:/Users/mazo260d/Desktop/Conni_BiA_PoL/stack_as_tif/FLIM_stack_z24.tif'), WindowsPath('C:/Users/mazo260d/Desktop/Conni_BiA_PoL/stack_as_tif/FLIM_stack_z25.tif'), WindowsPath('C:/Users/mazo260d/Desktop/Conni_BiA_PoL/stack_as_tif/FLIM_stack_z26.tif'), WindowsPath('C:/Users/mazo260d/Desktop/Conni_BiA_PoL/stack_as_tif/FLIM_stack_z27.tif'), WindowsPath('C:/Users/mazo260d/Desktop/Conni_BiA_PoL/stack_as_tif/FLIM_stack_z28.tif'), WindowsPath('C:/Users/mazo260d/Desktop/Conni_BiA_PoL/stack_as_tif/FLIM_stack_z29.tif'), WindowsPath('C:/Users/mazo260d/Desktop/Conni_BiA_PoL/stack_as_tif/FLIM_stack_z30.tif'), WindowsPath('C:/Users/mazo260d/Desktop/Conni_BiA_PoL/stack_as_tif/FLIM_stack_z31.tif'), WindowsPath('C:/Users/mazo260d/Desktop/Conni_BiA_PoL/stack_as_tif/FLIM_stack_z32.tif'), WindowsPath('C:/Users/mazo260d/Desktop/Conni_BiA_PoL/stack_as_tif/FLIM_stack_z33.tif'), WindowsPath('C:/Users/mazo260d/Desktop/Conni_BiA_PoL/stack_as_tif/FLIM_stack_z34.tif'), WindowsPath('C:/Users/mazo260d/Desktop/Conni_BiA_PoL/stack_as_tif/FLIM_stack_z35.tif'), WindowsPath('C:/Users/mazo260d/Desktop/Conni_BiA_PoL/stack_as_tif/FLIM_stack_z36.tif'), WindowsPath('C:/Users/mazo260d/Desktop/Conni_BiA_PoL/stack_as_tif/FLIM_stack_z37.tif'), WindowsPath('C:/Users/mazo260d/Desktop/Conni_BiA_PoL/stack_as_tif/FLIM_stack_z38.tif'), WindowsPath('C:/Users/mazo260d/Desktop/Conni_BiA_PoL/stack_as_tif/FLIM_stack_z39.tif'), WindowsPath('C:/Users/mazo260d/Desktop/Conni_BiA_PoL/stack_as_tif/FLIM_stack_z40.tif'), WindowsPath('C:/Users/mazo260d/Desktop/Conni_BiA_PoL/stack_as_tif/FLIM_stack_z41.tif'), WindowsPath('C:/Users/mazo260d/Desktop/Conni_BiA_PoL/stack_as_tif/FLIM_stack_z42.tif'), WindowsPath('C:/Users/mazo260d/Desktop/Conni_BiA_PoL/stack_as_tif/FLIM_stack_z43.tif'), WindowsPath('C:/Users/mazo260d/Desktop/Conni_BiA_PoL/stack_as_tif/FLIM_stack_z44.tif'), WindowsPath('C:/Users/mazo260d/Desktop/Conni_BiA_PoL/stack_as_tif/FLIM_stack_z45.tif'), WindowsPath('C:/Users/mazo260d/Desktop/Conni_BiA_PoL/stack_as_tif/FLIM_stack_z46.tif'), WindowsPath('C:/Users/mazo260d/Desktop/Conni_BiA_PoL/stack_as_tif/FLIM_stack_z47.tif'), WindowsPath('C:/Users/mazo260d/Desktop/Conni_BiA_PoL/stack_as_tif/FLIM_stack_z48.tif'), WindowsPath('C:/Users/mazo260d/Desktop/Conni_BiA_PoL/stack_as_tif/FLIM_stack_z49.tif'), WindowsPath('C:/Users/mazo260d/Desktop/Conni_BiA_PoL/stack_as_tif/FLIM_stack_z50.tif'), WindowsPath('C:/Users/mazo260d/Desktop/Conni_BiA_PoL/stack_as_tif/FLIM_stack_z51.tif'), WindowsPath('C:/Users/mazo260d/Desktop/Conni_BiA_PoL/stack_as_tif/FLIM_stack_z52.tif'), WindowsPath('C:/Users/mazo260d/Desktop/Conni_BiA_PoL/stack_as_tif/FLIM_stack_z53.tif'), WindowsPath('C:/Users/mazo260d/Desktop/Conni_BiA_PoL/stack_as_tif/FLIM_stack_z54.tif'), WindowsPath('C:/Users/mazo260d/Desktop/Conni_BiA_PoL/stack_as_tif/FLIM_stack_z55.tif'), WindowsPath('C:/Users/mazo260d/Desktop/Conni_BiA_PoL/stack_as_tif/FLIM_stack_z56.tif'), WindowsPath('C:/Users/mazo260d/Desktop/Conni_BiA_PoL/stack_as_tif/FLIM_stack_z57.tif'), WindowsPath('C:/Users/mazo260d/Desktop/Conni_BiA_PoL/stack_as_tif/FLIM_stack_z58.tif'), WindowsPath('C:/Users/mazo260d/Desktop/Conni_BiA_PoL/stack_as_tif/FLIM_stack_z59.tif'), WindowsPath('C:/Users/mazo260d/Desktop/Conni_BiA_PoL/stack_as_tif/FLIM_stack_z60.tif'), WindowsPath('C:/Users/mazo260d/Desktop/Conni_BiA_PoL/stack_as_tif/FLIM_stack_z61.tif'), WindowsPath('C:/Users/mazo260d/Desktop/Conni_BiA_PoL/stack_as_tif/FLIM_stack_z62.tif'), WindowsPath('C:/Users/mazo260d/Desktop/Conni_BiA_PoL/stack_as_tif/FLIM_stack_z63.tif'), WindowsPath('C:/Users/mazo260d/Desktop/Conni_BiA_PoL/stack_as_tif/FLIM_stack_z64.tif'), WindowsPath('C:/Users/mazo260d/Desktop/Conni_BiA_PoL/stack_as_tif/FLIM_stack_z65.tif')]\n"
     ]
    }
   ],
   "source": [
    "for z_path_list in t_path_list:\n",
    "    print(z_path_list)"
   ]
  },
  {
   "cell_type": "code",
   "execution_count": 9,
   "metadata": {},
   "outputs": [
    {
     "name": "stdout",
     "output_type": "stream",
     "text": [
      "stack shape and chunks =  (1, 2, 276, 65, 512, 512) \n",
      " ((1,), (2,), (276,), (65,), (512,), (512,))\n"
     ]
    }
   ],
   "source": [
    "read_tif_data_3D_delayed = dask.delayed(read_tif_data_3D, pure=True)\n",
    "\n",
    "lazy_images = [read_tif_data_3D_delayed(z_path_list, image_slice_max_shape=slice_max_shape) for z_path_list in t_path_list]\n",
    "\n",
    "arrays = [da.from_delayed(lazy_image,           # Construct a small Dask array\n",
    "                          dtype=image_2D.dtype,   # for every lazy value\n",
    "                          shape=image_stack_shape)\n",
    "          for lazy_image in lazy_images]\n",
    "\n",
    "stack = da.stack(arrays, axis=0)                # Stack all small Dask arrays into one\n",
    "print('stack shape and chunks = ', stack.shape, '\\n', stack.chunks)"
   ]
  },
  {
   "cell_type": "code",
   "execution_count": 10,
   "metadata": {},
   "outputs": [],
   "source": [
    "stack = da.moveaxis(stack, 0, -4)"
   ]
  },
  {
   "cell_type": "code",
   "execution_count": 11,
   "metadata": {},
   "outputs": [
    {
     "data": {
      "text/html": [
       "<table>\n",
       "    <tr>\n",
       "        <td>\n",
       "            <table style=\"border-collapse: collapse;\">\n",
       "                <thead>\n",
       "                    <tr>\n",
       "                        <td> </td>\n",
       "                        <th> Array </th>\n",
       "                        <th> Chunk </th>\n",
       "                    </tr>\n",
       "                </thead>\n",
       "                <tbody>\n",
       "                    \n",
       "                    <tr>\n",
       "                        <th> Bytes </th>\n",
       "                        <td> 17.52 GiB </td>\n",
       "                        <td> 17.52 GiB </td>\n",
       "                    </tr>\n",
       "                    \n",
       "                    <tr>\n",
       "                        <th> Shape </th>\n",
       "                        <td> (2, 276, 1, 65, 512, 512) </td>\n",
       "                        <td> (2, 276, 1, 65, 512, 512) </td>\n",
       "                    </tr>\n",
       "                    <tr>\n",
       "                        <th> Dask graph </th>\n",
       "                        <td colspan=\"2\"> 1 chunks in 4 graph layers </td>\n",
       "                    </tr>\n",
       "                    <tr>\n",
       "                        <th> Data type </th>\n",
       "                        <td colspan=\"2\"> uint16 numpy.ndarray </td>\n",
       "                    </tr>\n",
       "                </tbody>\n",
       "            </table>\n",
       "        </td>\n",
       "        <td>\n",
       "        <svg width=\"433\" height=\"193\" style=\"stroke:rgb(0,0,0);stroke-width:1\" >\n",
       "\n",
       "  <!-- Horizontal lines -->\n",
       "  <line x1=\"10\" y1=\"0\" x2=\"24\" y2=\"14\" style=\"stroke-width:2\" />\n",
       "  <line x1=\"10\" y1=\"64\" x2=\"24\" y2=\"79\" style=\"stroke-width:2\" />\n",
       "\n",
       "  <!-- Vertical lines -->\n",
       "  <line x1=\"10\" y1=\"0\" x2=\"10\" y2=\"64\" style=\"stroke-width:2\" />\n",
       "  <line x1=\"24\" y1=\"14\" x2=\"24\" y2=\"79\" style=\"stroke-width:2\" />\n",
       "\n",
       "  <!-- Colored Rectangle -->\n",
       "  <polygon points=\"10.0,0.0 24.9485979497544,14.948597949754403 24.9485979497544,79.6360979497544 10.0,64.6875\" style=\"fill:#ECB172A0;stroke-width:0\"/>\n",
       "\n",
       "  <!-- Horizontal lines -->\n",
       "  <line x1=\"10\" y1=\"0\" x2=\"35\" y2=\"0\" style=\"stroke-width:2\" />\n",
       "  <line x1=\"24\" y1=\"14\" x2=\"50\" y2=\"14\" style=\"stroke-width:2\" />\n",
       "\n",
       "  <!-- Vertical lines -->\n",
       "  <line x1=\"10\" y1=\"0\" x2=\"24\" y2=\"14\" style=\"stroke-width:2\" />\n",
       "  <line x1=\"35\" y1=\"0\" x2=\"50\" y2=\"14\" style=\"stroke-width:2\" />\n",
       "\n",
       "  <!-- Colored Rectangle -->\n",
       "  <polygon points=\"10.0,0.0 35.41261651458248,0.0 50.36121446433688,14.948597949754403 24.9485979497544,14.948597949754403\" style=\"fill:#ECB172A0;stroke-width:0\"/>\n",
       "\n",
       "  <!-- Horizontal lines -->\n",
       "  <line x1=\"24\" y1=\"14\" x2=\"50\" y2=\"14\" style=\"stroke-width:2\" />\n",
       "  <line x1=\"24\" y1=\"79\" x2=\"50\" y2=\"79\" style=\"stroke-width:2\" />\n",
       "\n",
       "  <!-- Vertical lines -->\n",
       "  <line x1=\"24\" y1=\"14\" x2=\"24\" y2=\"79\" style=\"stroke-width:2\" />\n",
       "  <line x1=\"50\" y1=\"14\" x2=\"50\" y2=\"79\" style=\"stroke-width:2\" />\n",
       "\n",
       "  <!-- Colored Rectangle -->\n",
       "  <polygon points=\"24.9485979497544,14.948597949754403 50.36121446433688,14.948597949754403 50.36121446433688,79.6360979497544 24.9485979497544,79.6360979497544\" style=\"fill:#ECB172A0;stroke-width:0\"/>\n",
       "\n",
       "  <!-- Text -->\n",
       "  <text x=\"37.654906\" y=\"99.636098\" font-size=\"1.0rem\" font-weight=\"100\" text-anchor=\"middle\" >1</text>\n",
       "  <text x=\"70.361214\" y=\"47.292348\" font-size=\"1.0rem\" font-weight=\"100\" text-anchor=\"middle\" transform=\"rotate(-90,70.361214,47.292348)\">276</text>\n",
       "  <text x=\"7.474299\" y=\"92.161799\" font-size=\"1.0rem\" font-weight=\"100\" text-anchor=\"middle\" transform=\"rotate(45,7.474299,92.161799)\">2</text>\n",
       "\n",
       "\n",
       "  <!-- Horizontal lines -->\n",
       "  <line x1=\"120\" y1=\"0\" x2=\"143\" y2=\"23\" style=\"stroke-width:2\" />\n",
       "  <line x1=\"120\" y1=\"120\" x2=\"143\" y2=\"143\" style=\"stroke-width:2\" />\n",
       "\n",
       "  <!-- Vertical lines -->\n",
       "  <line x1=\"120\" y1=\"0\" x2=\"120\" y2=\"120\" style=\"stroke-width:2\" />\n",
       "  <line x1=\"143\" y1=\"23\" x2=\"143\" y2=\"143\" style=\"stroke-width:2\" />\n",
       "\n",
       "  <!-- Colored Rectangle -->\n",
       "  <polygon points=\"120.0,0.0 143.45526618778425,23.455266187784247 143.45526618778425,143.45526618778425 120.0,120.0\" style=\"fill:#ECB172A0;stroke-width:0\"/>\n",
       "\n",
       "  <!-- Horizontal lines -->\n",
       "  <line x1=\"120\" y1=\"0\" x2=\"240\" y2=\"0\" style=\"stroke-width:2\" />\n",
       "  <line x1=\"143\" y1=\"23\" x2=\"263\" y2=\"23\" style=\"stroke-width:2\" />\n",
       "\n",
       "  <!-- Vertical lines -->\n",
       "  <line x1=\"120\" y1=\"0\" x2=\"143\" y2=\"23\" style=\"stroke-width:2\" />\n",
       "  <line x1=\"240\" y1=\"0\" x2=\"263\" y2=\"23\" style=\"stroke-width:2\" />\n",
       "\n",
       "  <!-- Colored Rectangle -->\n",
       "  <polygon points=\"120.0,0.0 240.0,0.0 263.4552661877842,23.455266187784247 143.45526618778425,23.455266187784247\" style=\"fill:#ECB172A0;stroke-width:0\"/>\n",
       "\n",
       "  <!-- Horizontal lines -->\n",
       "  <line x1=\"143\" y1=\"23\" x2=\"263\" y2=\"23\" style=\"stroke-width:2\" />\n",
       "  <line x1=\"143\" y1=\"143\" x2=\"263\" y2=\"143\" style=\"stroke-width:2\" />\n",
       "\n",
       "  <!-- Vertical lines -->\n",
       "  <line x1=\"143\" y1=\"23\" x2=\"143\" y2=\"143\" style=\"stroke-width:2\" />\n",
       "  <line x1=\"263\" y1=\"23\" x2=\"263\" y2=\"143\" style=\"stroke-width:2\" />\n",
       "\n",
       "  <!-- Colored Rectangle -->\n",
       "  <polygon points=\"143.45526618778425,23.455266187784247 263.4552661877842,23.455266187784247 263.4552661877842,143.45526618778425 143.45526618778425,143.45526618778425\" style=\"fill:#ECB172A0;stroke-width:0\"/>\n",
       "\n",
       "  <!-- Text -->\n",
       "  <text x=\"203.455266\" y=\"163.455266\" font-size=\"1.0rem\" font-weight=\"100\" text-anchor=\"middle\" >512</text>\n",
       "  <text x=\"283.455266\" y=\"83.455266\" font-size=\"1.0rem\" font-weight=\"100\" text-anchor=\"middle\" transform=\"rotate(-90,283.455266,83.455266)\">512</text>\n",
       "  <text x=\"121.727633\" y=\"151.727633\" font-size=\"1.0rem\" font-weight=\"100\" text-anchor=\"middle\" transform=\"rotate(45,121.727633,151.727633)\">65</text>\n",
       "</svg>\n",
       "        </td>\n",
       "    </tr>\n",
       "</table>"
      ],
      "text/plain": [
       "dask.array<transpose, shape=(2, 276, 1, 65, 512, 512), dtype=uint16, chunksize=(2, 276, 1, 65, 512, 512), chunktype=numpy.ndarray>"
      ]
     },
     "execution_count": 11,
     "metadata": {},
     "output_type": "execute_result"
    }
   ],
   "source": [
    "stack"
   ]
  },
  {
   "cell_type": "code",
   "execution_count": 12,
   "metadata": {},
   "outputs": [
    {
     "data": {
      "text/plain": [
       "(2, 276, 1, 65, 512, 512)"
      ]
     },
     "execution_count": 12,
     "metadata": {},
     "output_type": "execute_result"
    }
   ],
   "source": [
    "stack.chunksize"
   ]
  },
  {
   "cell_type": "code",
   "execution_count": 13,
   "metadata": {},
   "outputs": [
    {
     "data": {
      "text/plain": [
       "array([        2,       552,       552,     35880,  18370560, 815792128])"
      ]
     },
     "execution_count": 13,
     "metadata": {},
     "output_type": "execute_result"
    }
   ],
   "source": [
    "np.cumprod(stack.chunksize)"
   ]
  },
  {
   "cell_type": "code",
   "execution_count": 14,
   "metadata": {},
   "outputs": [
    {
     "data": {
      "text/plain": [
       "2"
      ]
     },
     "execution_count": 14,
     "metadata": {},
     "output_type": "execute_result"
    }
   ],
   "source": [
    "stack.itemsize"
   ]
  },
  {
   "cell_type": "code",
   "execution_count": 15,
   "metadata": {},
   "outputs": [
    {
     "data": {
      "text/plain": [
       "((2,), (276,), (1,), (65,), (512,), (512,))"
      ]
     },
     "execution_count": 15,
     "metadata": {},
     "output_type": "execute_result"
    }
   ],
   "source": [
    "stack.chunks"
   ]
  },
  {
   "cell_type": "code",
   "execution_count": 16,
   "metadata": {},
   "outputs": [
    {
     "data": {
      "text/plain": [
       "1631.584256"
      ]
     },
     "execution_count": 16,
     "metadata": {},
     "output_type": "execute_result"
    }
   ],
   "source": [
    "chunk_size_MBytes = np.cumprod(stack.chunksize)[-1] * stack.itemsize / 1e6 #MB per chunk\n",
    "chunk_size_MBytes"
   ]
  },
  {
   "cell_type": "code",
   "execution_count": 17,
   "metadata": {},
   "outputs": [],
   "source": [
    "if chunk_size_MBytes > 1e3: # if larger than 1GB (1000MB)\n",
    "    stack = stack.rechunk({-3: 'auto'}, block_size_limit=1e9)"
   ]
  },
  {
   "cell_type": "code",
   "execution_count": 18,
   "metadata": {},
   "outputs": [
    {
     "data": {
      "text/html": [
       "<table>\n",
       "    <tr>\n",
       "        <td>\n",
       "            <table style=\"border-collapse: collapse;\">\n",
       "                <thead>\n",
       "                    <tr>\n",
       "                        <td> </td>\n",
       "                        <th> Array </th>\n",
       "                        <th> Chunk </th>\n",
       "                    </tr>\n",
       "                </thead>\n",
       "                <tbody>\n",
       "                    \n",
       "                    <tr>\n",
       "                        <th> Bytes </th>\n",
       "                        <td> 17.52 GiB </td>\n",
       "                        <td> 828.00 MiB </td>\n",
       "                    </tr>\n",
       "                    \n",
       "                    <tr>\n",
       "                        <th> Shape </th>\n",
       "                        <td> (2, 276, 1, 65, 512, 512) </td>\n",
       "                        <td> (2, 276, 1, 3, 512, 512) </td>\n",
       "                    </tr>\n",
       "                    <tr>\n",
       "                        <th> Dask graph </th>\n",
       "                        <td colspan=\"2\"> 22 chunks in 5 graph layers </td>\n",
       "                    </tr>\n",
       "                    <tr>\n",
       "                        <th> Data type </th>\n",
       "                        <td colspan=\"2\"> uint16 numpy.ndarray </td>\n",
       "                    </tr>\n",
       "                </tbody>\n",
       "            </table>\n",
       "        </td>\n",
       "        <td>\n",
       "        <svg width=\"433\" height=\"193\" style=\"stroke:rgb(0,0,0);stroke-width:1\" >\n",
       "\n",
       "  <!-- Horizontal lines -->\n",
       "  <line x1=\"10\" y1=\"0\" x2=\"24\" y2=\"14\" style=\"stroke-width:2\" />\n",
       "  <line x1=\"10\" y1=\"64\" x2=\"24\" y2=\"79\" style=\"stroke-width:2\" />\n",
       "\n",
       "  <!-- Vertical lines -->\n",
       "  <line x1=\"10\" y1=\"0\" x2=\"10\" y2=\"64\" style=\"stroke-width:2\" />\n",
       "  <line x1=\"24\" y1=\"14\" x2=\"24\" y2=\"79\" style=\"stroke-width:2\" />\n",
       "\n",
       "  <!-- Colored Rectangle -->\n",
       "  <polygon points=\"10.0,0.0 24.9485979497544,14.948597949754403 24.9485979497544,79.6360979497544 10.0,64.6875\" style=\"fill:#ECB172A0;stroke-width:0\"/>\n",
       "\n",
       "  <!-- Horizontal lines -->\n",
       "  <line x1=\"10\" y1=\"0\" x2=\"35\" y2=\"0\" style=\"stroke-width:2\" />\n",
       "  <line x1=\"24\" y1=\"14\" x2=\"50\" y2=\"14\" style=\"stroke-width:2\" />\n",
       "\n",
       "  <!-- Vertical lines -->\n",
       "  <line x1=\"10\" y1=\"0\" x2=\"24\" y2=\"14\" style=\"stroke-width:2\" />\n",
       "  <line x1=\"35\" y1=\"0\" x2=\"50\" y2=\"14\" style=\"stroke-width:2\" />\n",
       "\n",
       "  <!-- Colored Rectangle -->\n",
       "  <polygon points=\"10.0,0.0 35.41261651458248,0.0 50.36121446433688,14.948597949754403 24.9485979497544,14.948597949754403\" style=\"fill:#ECB172A0;stroke-width:0\"/>\n",
       "\n",
       "  <!-- Horizontal lines -->\n",
       "  <line x1=\"24\" y1=\"14\" x2=\"50\" y2=\"14\" style=\"stroke-width:2\" />\n",
       "  <line x1=\"24\" y1=\"79\" x2=\"50\" y2=\"79\" style=\"stroke-width:2\" />\n",
       "\n",
       "  <!-- Vertical lines -->\n",
       "  <line x1=\"24\" y1=\"14\" x2=\"24\" y2=\"79\" style=\"stroke-width:2\" />\n",
       "  <line x1=\"50\" y1=\"14\" x2=\"50\" y2=\"79\" style=\"stroke-width:2\" />\n",
       "\n",
       "  <!-- Colored Rectangle -->\n",
       "  <polygon points=\"24.9485979497544,14.948597949754403 50.36121446433688,14.948597949754403 50.36121446433688,79.6360979497544 24.9485979497544,79.6360979497544\" style=\"fill:#ECB172A0;stroke-width:0\"/>\n",
       "\n",
       "  <!-- Text -->\n",
       "  <text x=\"37.654906\" y=\"99.636098\" font-size=\"1.0rem\" font-weight=\"100\" text-anchor=\"middle\" >1</text>\n",
       "  <text x=\"70.361214\" y=\"47.292348\" font-size=\"1.0rem\" font-weight=\"100\" text-anchor=\"middle\" transform=\"rotate(-90,70.361214,47.292348)\">276</text>\n",
       "  <text x=\"7.474299\" y=\"92.161799\" font-size=\"1.0rem\" font-weight=\"100\" text-anchor=\"middle\" transform=\"rotate(45,7.474299,92.161799)\">2</text>\n",
       "\n",
       "\n",
       "  <!-- Horizontal lines -->\n",
       "  <line x1=\"120\" y1=\"0\" x2=\"143\" y2=\"23\" style=\"stroke-width:2\" />\n",
       "  <line x1=\"120\" y1=\"120\" x2=\"143\" y2=\"143\" style=\"stroke-width:2\" />\n",
       "\n",
       "  <!-- Vertical lines -->\n",
       "  <line x1=\"120\" y1=\"0\" x2=\"120\" y2=\"120\" style=\"stroke-width:2\" />\n",
       "  <line x1=\"121\" y1=\"1\" x2=\"121\" y2=\"121\" />\n",
       "  <line x1=\"122\" y1=\"2\" x2=\"122\" y2=\"122\" />\n",
       "  <line x1=\"123\" y1=\"3\" x2=\"123\" y2=\"123\" />\n",
       "  <line x1=\"124\" y1=\"4\" x2=\"124\" y2=\"124\" />\n",
       "  <line x1=\"125\" y1=\"5\" x2=\"125\" y2=\"125\" />\n",
       "  <line x1=\"126\" y1=\"6\" x2=\"126\" y2=\"126\" />\n",
       "  <line x1=\"127\" y1=\"7\" x2=\"127\" y2=\"127\" />\n",
       "  <line x1=\"128\" y1=\"8\" x2=\"128\" y2=\"128\" />\n",
       "  <line x1=\"129\" y1=\"9\" x2=\"129\" y2=\"129\" />\n",
       "  <line x1=\"130\" y1=\"10\" x2=\"130\" y2=\"130\" />\n",
       "  <line x1=\"131\" y1=\"11\" x2=\"131\" y2=\"131\" />\n",
       "  <line x1=\"132\" y1=\"12\" x2=\"132\" y2=\"132\" />\n",
       "  <line x1=\"134\" y1=\"14\" x2=\"134\" y2=\"134\" />\n",
       "  <line x1=\"135\" y1=\"15\" x2=\"135\" y2=\"135\" />\n",
       "  <line x1=\"136\" y1=\"16\" x2=\"136\" y2=\"136\" />\n",
       "  <line x1=\"137\" y1=\"17\" x2=\"137\" y2=\"137\" />\n",
       "  <line x1=\"138\" y1=\"18\" x2=\"138\" y2=\"138\" />\n",
       "  <line x1=\"139\" y1=\"19\" x2=\"139\" y2=\"139\" />\n",
       "  <line x1=\"140\" y1=\"20\" x2=\"140\" y2=\"140\" />\n",
       "  <line x1=\"141\" y1=\"21\" x2=\"141\" y2=\"141\" />\n",
       "  <line x1=\"142\" y1=\"22\" x2=\"142\" y2=\"142\" />\n",
       "  <line x1=\"143\" y1=\"23\" x2=\"143\" y2=\"143\" style=\"stroke-width:2\" />\n",
       "\n",
       "  <!-- Colored Rectangle -->\n",
       "  <polygon points=\"120.0,0.0 143.45526618778425,23.455266187784247 143.45526618778425,143.45526618778425 120.0,120.0\" style=\"fill:#ECB172A0;stroke-width:0\"/>\n",
       "\n",
       "  <!-- Horizontal lines -->\n",
       "  <line x1=\"120\" y1=\"0\" x2=\"240\" y2=\"0\" style=\"stroke-width:2\" />\n",
       "  <line x1=\"121\" y1=\"1\" x2=\"241\" y2=\"1\" />\n",
       "  <line x1=\"122\" y1=\"2\" x2=\"242\" y2=\"2\" />\n",
       "  <line x1=\"123\" y1=\"3\" x2=\"243\" y2=\"3\" />\n",
       "  <line x1=\"124\" y1=\"4\" x2=\"244\" y2=\"4\" />\n",
       "  <line x1=\"125\" y1=\"5\" x2=\"245\" y2=\"5\" />\n",
       "  <line x1=\"126\" y1=\"6\" x2=\"246\" y2=\"6\" />\n",
       "  <line x1=\"127\" y1=\"7\" x2=\"247\" y2=\"7\" />\n",
       "  <line x1=\"128\" y1=\"8\" x2=\"248\" y2=\"8\" />\n",
       "  <line x1=\"129\" y1=\"9\" x2=\"249\" y2=\"9\" />\n",
       "  <line x1=\"130\" y1=\"10\" x2=\"250\" y2=\"10\" />\n",
       "  <line x1=\"131\" y1=\"11\" x2=\"251\" y2=\"11\" />\n",
       "  <line x1=\"132\" y1=\"12\" x2=\"252\" y2=\"12\" />\n",
       "  <line x1=\"134\" y1=\"14\" x2=\"254\" y2=\"14\" />\n",
       "  <line x1=\"135\" y1=\"15\" x2=\"255\" y2=\"15\" />\n",
       "  <line x1=\"136\" y1=\"16\" x2=\"256\" y2=\"16\" />\n",
       "  <line x1=\"137\" y1=\"17\" x2=\"257\" y2=\"17\" />\n",
       "  <line x1=\"138\" y1=\"18\" x2=\"258\" y2=\"18\" />\n",
       "  <line x1=\"139\" y1=\"19\" x2=\"259\" y2=\"19\" />\n",
       "  <line x1=\"140\" y1=\"20\" x2=\"260\" y2=\"20\" />\n",
       "  <line x1=\"141\" y1=\"21\" x2=\"261\" y2=\"21\" />\n",
       "  <line x1=\"142\" y1=\"22\" x2=\"262\" y2=\"22\" />\n",
       "  <line x1=\"143\" y1=\"23\" x2=\"263\" y2=\"23\" style=\"stroke-width:2\" />\n",
       "\n",
       "  <!-- Vertical lines -->\n",
       "  <line x1=\"120\" y1=\"0\" x2=\"143\" y2=\"23\" style=\"stroke-width:2\" />\n",
       "  <line x1=\"240\" y1=\"0\" x2=\"263\" y2=\"23\" style=\"stroke-width:2\" />\n",
       "\n",
       "  <!-- Colored Rectangle -->\n",
       "  <polygon points=\"120.0,0.0 240.0,0.0 263.4552661877842,23.455266187784247 143.45526618778425,23.455266187784247\" style=\"fill:#ECB172A0;stroke-width:0\"/>\n",
       "\n",
       "  <!-- Horizontal lines -->\n",
       "  <line x1=\"143\" y1=\"23\" x2=\"263\" y2=\"23\" style=\"stroke-width:2\" />\n",
       "  <line x1=\"143\" y1=\"143\" x2=\"263\" y2=\"143\" style=\"stroke-width:2\" />\n",
       "\n",
       "  <!-- Vertical lines -->\n",
       "  <line x1=\"143\" y1=\"23\" x2=\"143\" y2=\"143\" style=\"stroke-width:2\" />\n",
       "  <line x1=\"263\" y1=\"23\" x2=\"263\" y2=\"143\" style=\"stroke-width:2\" />\n",
       "\n",
       "  <!-- Colored Rectangle -->\n",
       "  <polygon points=\"143.45526618778425,23.455266187784247 263.4552661877842,23.455266187784247 263.4552661877842,143.45526618778425 143.45526618778425,143.45526618778425\" style=\"fill:#ECB172A0;stroke-width:0\"/>\n",
       "\n",
       "  <!-- Text -->\n",
       "  <text x=\"203.455266\" y=\"163.455266\" font-size=\"1.0rem\" font-weight=\"100\" text-anchor=\"middle\" >512</text>\n",
       "  <text x=\"283.455266\" y=\"83.455266\" font-size=\"1.0rem\" font-weight=\"100\" text-anchor=\"middle\" transform=\"rotate(-90,283.455266,83.455266)\">512</text>\n",
       "  <text x=\"121.727633\" y=\"151.727633\" font-size=\"1.0rem\" font-weight=\"100\" text-anchor=\"middle\" transform=\"rotate(45,121.727633,151.727633)\">65</text>\n",
       "</svg>\n",
       "        </td>\n",
       "    </tr>\n",
       "</table>"
      ],
      "text/plain": [
       "dask.array<rechunk-merge, shape=(2, 276, 1, 65, 512, 512), dtype=uint16, chunksize=(2, 276, 1, 3, 512, 512), chunktype=numpy.ndarray>"
      ]
     },
     "execution_count": 18,
     "metadata": {},
     "output_type": "execute_result"
    }
   ],
   "source": [
    "stack"
   ]
  },
  {
   "cell_type": "code",
   "execution_count": 19,
   "metadata": {},
   "outputs": [],
   "source": [
    "viewer = napari.Viewer()"
   ]
  },
  {
   "cell_type": "code",
   "execution_count": 20,
   "metadata": {},
   "outputs": [],
   "source": [
    "viewer.add_image(stack, channel_axis=0)"
   ]
  },
  {
   "cell_type": "code",
   "execution_count": null,
   "metadata": {},
   "outputs": [],
   "source": []
  }
 ],
 "metadata": {
  "kernelspec": {
   "display_name": "napari-flim-dev",
   "language": "python",
   "name": "python3"
  },
  "language_info": {
   "codemirror_mode": {
    "name": "ipython",
    "version": 3
   },
   "file_extension": ".py",
   "mimetype": "text/x-python",
   "name": "python",
   "nbconvert_exporter": "python",
   "pygments_lexer": "ipython3",
   "version": "3.9.15"
  },
  "orig_nbformat": 4
 },
 "nbformat": 4,
 "nbformat_minor": 2
}
