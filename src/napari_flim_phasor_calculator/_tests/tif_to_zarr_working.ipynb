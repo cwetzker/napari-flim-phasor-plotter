{
 "cells": [
  {
   "cell_type": "code",
   "execution_count": 1,
   "metadata": {},
   "outputs": [],
   "source": [
    "import skimage.io\n",
    "import dask.array as da\n",
    "import dask\n",
    "from dask import delayed\n",
    "from pathlib import Path\n",
    "import napari\n",
    "from natsort import natsorted\n",
    "import numpy as np\n",
    "from napari_flim_phasor_calculator._reader import get_current_tz\n",
    "import zarr"
   ]
  },
  {
   "attachments": {},
   "cell_type": "markdown",
   "metadata": {},
   "source": [
    "Define read 2d and 3d functions"
   ]
  },
  {
   "cell_type": "code",
   "execution_count": 2,
   "metadata": {},
   "outputs": [],
   "source": [
    "# folder_path = r\"C:\\Users\\mazo260d\\Desktop\\Conni_BiA_PoL\\embryo_FLIM_data\\raw_data_embryo_stack_3tps_43pl_2ch\\output_as_tif\"\n",
    "# folder_path = r\"C:\\Users\\mazo260d\\Desktop\\Conni_BiA_PoL\\stack_smaller_as_tif\"\n",
    "folder_path = r\"C:\\Users\\mazo260d\\Desktop\\Conni_BiA_PoL\\stack_as_tif\"\n",
    "\n",
    "folder_path = Path(folder_path)"
   ]
  },
  {
   "attachments": {},
   "cell_type": "markdown",
   "metadata": {},
   "source": [
    "Get max slice shape"
   ]
  },
  {
   "cell_type": "code",
   "execution_count": 3,
   "metadata": {},
   "outputs": [
    {
     "name": "stdout",
     "output_type": "stream",
     "text": [
      "last_slice_shape =  (2, 266, 512, 512) image_dtype =  uint16\n",
      "max_slice_shape =  (2, 276, 512, 512)\n"
     ]
    }
   ],
   "source": [
    "def read_tif_data_2D(path):\n",
    "    from skimage.io import imread\n",
    "    image = imread(path)\n",
    "    return image\n",
    "\n",
    "# Read all slices to get slice max shape and dtype (not ideal but for now it is OK)\n",
    "slice_shape_list = []\n",
    "for file_path in folder_path.iterdir():\n",
    "    if file_path.suffix == '.tif':\n",
    "        image_2D = read_tif_data_2D(file_path)\n",
    "        slice_shape_list.append(image_2D.shape)\n",
    "slice_max_shape = max(slice_shape_list)\n",
    "print('last_slice_shape = ', image_2D.shape,'image_dtype = ', image_2D.dtype)\n",
    "print('max_slice_shape = ', slice_max_shape)"
   ]
  },
  {
   "attachments": {},
   "cell_type": "markdown",
   "metadata": {},
   "source": [
    "Get max z slices and max t timepoints from filepaths"
   ]
  },
  {
   "cell_type": "code",
   "execution_count": 4,
   "metadata": {},
   "outputs": [
    {
     "name": "stdout",
     "output_type": "stream",
     "text": [
      "max_z slices =  65\n",
      "max_time =  1\n"
     ]
    }
   ],
   "source": [
    "file_paths = [file_path for file_path in folder_path.iterdir() if file_path.suffix == '.tif']\n",
    "\n",
    "# Get max z slices by reading all file names\n",
    "def get_max_zslices(file_paths):\n",
    "    max_z = max([get_current_tz(file_path) for file_path in file_paths if file_path.suffix == '.tif'])[1]\n",
    "    if max_z is None:\n",
    "        return 1\n",
    "    return max_z\n",
    "def get_max_time(file_paths):\n",
    "    max_time = max([get_current_tz(file_path) for file_path in file_paths if file_path.suffix == '.tif'])[0]\n",
    "    if max_time is None:\n",
    "        return 1\n",
    "    return max_time\n",
    "\n",
    "max_z = get_max_zslices(file_paths)\n",
    "print('max_z slices = ', max_z)\n",
    "max_t = get_max_time(file_paths)\n",
    "print('max_time = ', max_t)"
   ]
  },
  {
   "cell_type": "code",
   "execution_count": 5,
   "metadata": {},
   "outputs": [
    {
     "data": {
      "text/plain": [
       "(1, 2, 276, 65, 512, 512)"
      ]
     },
     "execution_count": 5,
     "metadata": {},
     "output_type": "execute_result"
    }
   ],
   "source": [
    "stack_shape = (max_t, *slice_max_shape[:-2], max_z, *slice_max_shape[-2:])\n",
    "stack_shape"
   ]
  },
  {
   "cell_type": "markdown",
   "metadata": {},
   "source": [
    "Get list of paths"
   ]
  },
  {
   "cell_type": "code",
   "execution_count": 6,
   "metadata": {},
   "outputs": [],
   "source": [
    "t_path_list = []\n",
    "z_path_list = []\n",
    "file_paths = natsorted(file_paths)\n",
    "previous_t = 1\n",
    "for file_path in file_paths:\n",
    "    if file_path.suffix == '.tif':\n",
    "        current_t, current_z = get_current_tz(file_path)\n",
    "        if current_t is not None:\n",
    "            if current_t > previous_t:\n",
    "                t_path_list.append(z_path_list)\n",
    "                z_path_list = []\n",
    "                previous_t = current_t\n",
    "            z_path_list.append(file_path)\n",
    "\n",
    "# If no timepoints, z+path_list is file_paths\n",
    "if current_t is None:\n",
    "    z_path_list = file_paths\n",
    "\n",
    "# Append last timepoint\n",
    "t_path_list.append(z_path_list)"
   ]
  },
  {
   "cell_type": "code",
   "execution_count": 7,
   "metadata": {},
   "outputs": [
    {
     "name": "stdout",
     "output_type": "stream",
     "text": [
      "((1,), (1, 1), (35, 35, 35, 35, 35, 35, 35, 31), (9, 9, 9, 9, 9, 9, 9, 2), (64, 64, 64, 64, 64, 64, 64, 64), (128, 128, 128, 128))\n",
      "((1,), (1, 1), (276,), (9, 9, 9, 9, 9, 9, 9, 2), (64, 64, 64, 64, 64, 64, 64, 64), (128, 128, 128, 128))\n"
     ]
    }
   ],
   "source": [
    "url = folder_path / (folder_path.stem + '2.zarr')\n",
    "# Using zarr to automatically guees chunk sizes\n",
    "z1 = zarr.open(url, mode='w', shape=stack_shape, dtype=image_2D.dtype)\n",
    "# Using dask to rechunk micro-time axis\n",
    "dask_array = da.from_zarr(url)\n",
    "print(dask_array.chunks)\n",
    "dask_array = dask_array.rechunk(chunks={-4: -1})\n",
    "print(dask_array.chunks)\n",
    "# Overwriting previous zarr rechunked\n",
    "da.to_zarr(dask_array, url, overwrite=True)\n",
    "# z = zarr.zeros(stack_shape, path = url, dtype=image_2D.dtype)\n",
    "# z1.shape"
   ]
  },
  {
   "cell_type": "code",
   "execution_count": 8,
   "metadata": {},
   "outputs": [],
   "source": [
    "z1 = zarr.open(url, mode='r+')"
   ]
  },
  {
   "cell_type": "code",
   "execution_count": 9,
   "metadata": {},
   "outputs": [
    {
     "data": {
      "text/plain": [
       "(1, 1, 276, 9, 64, 128)"
      ]
     },
     "execution_count": 9,
     "metadata": {},
     "output_type": "execute_result"
    }
   ],
   "source": [
    "z1.chunks"
   ]
  },
  {
   "cell_type": "code",
   "execution_count": 10,
   "metadata": {},
   "outputs": [],
   "source": [
    "for i, z_paths in enumerate(t_path_list):\n",
    "    for j, path in enumerate(z_paths):\n",
    "        data = read_tif_data_2D(path)\n",
    "        z1[i,:data.shape[0],:data.shape[1],j, :data.shape[2], :data.shape[3]] = read_tif_data_2D(path)"
   ]
  },
  {
   "cell_type": "code",
   "execution_count": 11,
   "metadata": {},
   "outputs": [],
   "source": [
    "viewer = napari.Viewer()"
   ]
  },
  {
   "cell_type": "code",
   "execution_count": 12,
   "metadata": {},
   "outputs": [
    {
     "data": {
      "text/plain": [
       "[<Image layer 'Image' at 0x2469d740c10>,\n",
       " <Image layer 'Image [1]' at 0x2469d9a6af0>]"
      ]
     },
     "execution_count": 12,
     "metadata": {},
     "output_type": "execute_result"
    }
   ],
   "source": [
    "viewer.add_image(z1, channel_axis=1)"
   ]
  },
  {
   "cell_type": "code",
   "execution_count": null,
   "metadata": {},
   "outputs": [],
   "source": []
  }
 ],
 "metadata": {
  "kernelspec": {
   "display_name": "napari-flim-dev",
   "language": "python",
   "name": "python3"
  },
  "language_info": {
   "codemirror_mode": {
    "name": "ipython",
    "version": 3
   },
   "file_extension": ".py",
   "mimetype": "text/x-python",
   "name": "python",
   "nbconvert_exporter": "python",
   "pygments_lexer": "ipython3",
   "version": "3.9.15"
  },
  "orig_nbformat": 4
 },
 "nbformat": 4,
 "nbformat_minor": 2
}
